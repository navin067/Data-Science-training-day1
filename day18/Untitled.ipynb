{
 "cells": [
  {
   "cell_type": "code",
   "execution_count": 1,
   "id": "f158d6d3",
   "metadata": {},
   "outputs": [],
   "source": [
    "class Product:\n",
    "    def __init__(self,name,price):\n",
    "        self.name = name\n",
    "        self.price = price"
   ]
  },
  {
   "cell_type": "code",
   "execution_count": 2,
   "id": "0ea367ae",
   "metadata": {},
   "outputs": [],
   "source": [
    "class User:\n",
    "    users = []\n",
    "    \n",
    "    def __init__(self, name):\n",
    "        self.name = self.validate_name(name)\n",
    "        self.__is_premium = False\n",
    "        self.__is_admin = False\n",
    "        self.cart = ShoppingCart()\n",
    "        User.users.append(self)\n",
    "        if self.name == 'admin':\n",
    "            self.__is_premium = True\n",
    "            self.__is_admin = True\n",
    "    \n",
    "    @staticmethod\n",
    "    def validate_name(name):\n",
    "        if any(user.name == name for user in User.users):\n",
    "            print(f\"User with the name '{name}' already exists. Please choose a different user name\")\n",
    "            unique_name = input(\"Please enter a unique name: \")\n",
    "            return User.validate_name(unique_name) # Recursively validate the unique name\n",
    "        return name\n",
    "    \n",
    "    @property \n",
    "    def is_admin(self):\n",
    "        return self.__is_admin\n",
    "    \n",
    "    @property \n",
    "    def is_premium(self):\n",
    "        return self.__is_premium\n",
    "    \n",
    "    def make_admin(self, admin_user):\n",
    "        if admin_user.is_admin:\n",
    "            self.__is_admin = True\n",
    "            self.__is_premium = True\n",
    "            \n",
    "    def make_premium(self, admin_user):\n",
    "        if admin_user.is_admin:\n",
    "            self.__is_premium = True\n",
    "    \n",
    "    def remove_admin(self, admin_user):\n",
    "        if admin_user.is_admin:\n",
    "            self.__is_admin = False\n",
    "    \n",
    "    def remove_admin(self, admin_user):\n",
    "        if admin_user.is_admin:\n",
    "            self.__is_premium = False"
   ]
  },
  {
   "cell_type": "code",
   "execution_count": 3,
   "id": "d88a71a8",
   "metadata": {},
   "outputs": [],
   "source": [
    "def discount_10_percent(func):\n",
    "    def wrapper(cost):\n",
    "        total_price = func(cost)\n",
    "        price_with_discount = total_price * 0.9\n",
    "        return price_with_discount\n",
    "    return wrapper"
   ]
  },
  {
   "cell_type": "code",
   "execution_count": 4,
   "id": "7c6efa4b",
   "metadata": {},
   "outputs": [],
   "source": [
    "class ShoppingCart:\n",
    "    def __init__(self):\n",
    "        self.products = []\n",
    "    \n",
    "    def add_products(self,product):\n",
    "        self.products.append(product)\n",
    "        \n",
    "    def remove_product(self,product):\n",
    "        self. products.remove(product)\n",
    "        \n",
    "    def calculate_total_cost(self):\n",
    "        total_cost = sum(product.price for product in self.products)\n",
    "        return total_cost\n",
    "    \n",
    "    @discount_10_percent\n",
    "    def calculate_discounted_cost(self):\n",
    "        total_cost = sum(product.price for product in self.products)\n",
    "        return total_cost\n",
    "    \n",
    "    def generate_invoice(self,user):\n",
    "        invoice = f\"Invoice for {user.name}:\\n\"\n",
    "        invoice += \"======================== \\n\"\n",
    "        for product in self.products:\n",
    "            invoice += f\"{product.name}: ${product.price}\\n\"\n",
    "        total_cost = self.calculate_total_cost()\n",
    "        if user.is_premium:\n",
    "            invoice += \"---------------------\\n\"\n",
    "            invoice += f\"Sub-total: ${total_cost}\\n\"\n",
    "            final_cost = self.calculate_discounted_cost()\n",
    "            invoice += f\"Discount (10%): ${total_cost - final_cost}\\n\"\n",
    "            total_cost = final_cost\n",
    "        invoice += \"------------------------\\n\"\n",
    "        invoice += f\"Total cost: ${total_cost}\"\n",
    "        return invoice\n",
    "    \n",
    "    def get_products(self):\n",
    "        yield from self.products"
   ]
  },
  {
   "cell_type": "code",
   "execution_count": 5,
   "id": "1ca49dea",
   "metadata": {},
   "outputs": [],
   "source": [
    "product1 = Product(\"Shirt\",20)\n",
    "product2 = Product(\"Pants\",30)\n",
    "product3 = Product(\"Shoes\",50)"
   ]
  },
  {
   "cell_type": "code",
   "execution_count": 6,
   "id": "5e060157",
   "metadata": {},
   "outputs": [],
   "source": [
    "user1 = User(\"Nabin\")"
   ]
  },
  {
   "cell_type": "code",
   "execution_count": 7,
   "id": "7ca25c22",
   "metadata": {},
   "outputs": [
    {
     "data": {
      "text/plain": [
       "False"
      ]
     },
     "execution_count": 7,
     "metadata": {},
     "output_type": "execute_result"
    }
   ],
   "source": [
    "user1.is_admin"
   ]
  },
  {
   "cell_type": "code",
   "execution_count": 8,
   "id": "b25bae23",
   "metadata": {},
   "outputs": [],
   "source": [
    "user2 = User(\"admin\")"
   ]
  },
  {
   "cell_type": "code",
   "execution_count": 9,
   "id": "1fbc0778",
   "metadata": {},
   "outputs": [
    {
     "data": {
      "text/plain": [
       "True"
      ]
     },
     "execution_count": 9,
     "metadata": {},
     "output_type": "execute_result"
    }
   ],
   "source": [
    "user2.is_admin"
   ]
  },
  {
   "cell_type": "code",
   "execution_count": 10,
   "id": "81879bd9",
   "metadata": {},
   "outputs": [
    {
     "data": {
      "text/plain": [
       "True"
      ]
     },
     "execution_count": 10,
     "metadata": {},
     "output_type": "execute_result"
    }
   ],
   "source": [
    "user2.is_premium"
   ]
  },
  {
   "cell_type": "code",
   "execution_count": 11,
   "id": "0bbaf08a",
   "metadata": {},
   "outputs": [],
   "source": [
    "user1.make_admin(user2)"
   ]
  },
  {
   "cell_type": "code",
   "execution_count": 12,
   "id": "fcb610e5",
   "metadata": {},
   "outputs": [
    {
     "data": {
      "text/plain": [
       "True"
      ]
     },
     "execution_count": 12,
     "metadata": {},
     "output_type": "execute_result"
    }
   ],
   "source": [
    "user1.is_admin"
   ]
  },
  {
   "cell_type": "code",
   "execution_count": 13,
   "id": "b79b5bad",
   "metadata": {},
   "outputs": [],
   "source": [
    "user1.cart.add_products(product1)\n",
    "user1.cart.add_products(product2)"
   ]
  },
  {
   "cell_type": "code",
   "execution_count": 14,
   "id": "213fcca9",
   "metadata": {},
   "outputs": [
    {
     "name": "stdout",
     "output_type": "stream",
     "text": [
      "Invoice for Nabin:\n",
      "======================== \n",
      "Shirt: $20\n",
      "Pants: $30\n",
      "---------------------\n",
      "Sub-total: $50\n",
      "Discount (10%): $5.0\n",
      "------------------------\n",
      "Total cost: $45.0\n"
     ]
    }
   ],
   "source": [
    "#generate and print the invoice\n",
    "invoice = user1.cart.generate_invoice(user1)\n",
    "print(invoice)"
   ]
  },
  {
   "cell_type": "code",
   "execution_count": 15,
   "id": "ee5f0926",
   "metadata": {},
   "outputs": [
    {
     "name": "stdout",
     "output_type": "stream",
     "text": [
      "Invoice for Aastha:\n",
      "======================== \n",
      "Shirt: $20\n",
      "Pants: $30\n",
      "Shoes: $50\n",
      "------------------------\n",
      "Total cost: $100\n"
     ]
    }
   ],
   "source": [
    "user3 = User(\"Aastha\")\n",
    "user3.cart.add_products(product1)\n",
    "user3.cart.add_products(product2)\n",
    "user3.cart.add_products(product3)\n",
    "\n",
    "#generate and print the invoice\n",
    "invoice = user3.cart.generate_invoice(user3)\n",
    "print(invoice)"
   ]
  },
  {
   "cell_type": "code",
   "execution_count": 37,
   "id": "313f94dc",
   "metadata": {},
   "outputs": [
    {
     "data": {
      "text/plain": [
       "False"
      ]
     },
     "execution_count": 37,
     "metadata": {},
     "output_type": "execute_result"
    }
   ],
   "source": [
    "user3.is_admin"
   ]
  },
  {
   "cell_type": "code",
   "execution_count": 20,
   "id": "b677f436",
   "metadata": {},
   "outputs": [
    {
     "name": "stdout",
     "output_type": "stream",
     "text": [
      "Invoice for admin:\n",
      "======================== \n",
      "---------------------\n",
      "Sub-total: $0\n",
      "Discount (10%): $0.0\n",
      "------------------------\n",
      "Total cost: $0.0\n"
     ]
    }
   ],
   "source": [
    "admin_invoice = user2.cart.generate_invoice(user2)\n",
    "print(admin_invoice)"
   ]
  },
  {
   "cell_type": "code",
   "execution_count": 21,
   "id": "70a739b2",
   "metadata": {},
   "outputs": [],
   "source": [
    "user2.cart.add_products(product3)"
   ]
  },
  {
   "cell_type": "code",
   "execution_count": 22,
   "id": "aeff68b0",
   "metadata": {},
   "outputs": [
    {
     "name": "stdout",
     "output_type": "stream",
     "text": [
      "Invoice for admin:\n",
      "======================== \n",
      "Shoes: $50\n",
      "---------------------\n",
      "Sub-total: $50\n",
      "Discount (10%): $5.0\n",
      "------------------------\n",
      "Total cost: $45.0\n"
     ]
    }
   ],
   "source": [
    "admin_invoice = user2.cart.generate_invoice(user2)\n",
    "print(admin_invoice)"
   ]
  },
  {
   "cell_type": "code",
   "execution_count": null,
   "id": "ef0a87d1",
   "metadata": {},
   "outputs": [],
   "source": []
  }
 ],
 "metadata": {
  "kernelspec": {
   "display_name": "Python 3 (ipykernel)",
   "language": "python",
   "name": "python3"
  },
  "language_info": {
   "codemirror_mode": {
    "name": "ipython",
    "version": 3
   },
   "file_extension": ".py",
   "mimetype": "text/x-python",
   "name": "python",
   "nbconvert_exporter": "python",
   "pygments_lexer": "ipython3",
   "version": "3.10.0"
  }
 },
 "nbformat": 4,
 "nbformat_minor": 5
}
