{
 "cells": [
  {
   "cell_type": "markdown",
   "id": "090cfee3",
   "metadata": {},
   "source": [
    "# Method overloading"
   ]
  },
  {
   "cell_type": "code",
   "execution_count": 2,
   "id": "b6da54bb",
   "metadata": {},
   "outputs": [],
   "source": [
    "class sum_calculation:\n",
    "    def add(self, a, b=0, c=0):\n",
    "        if b != 0 and c != 0:\n",
    "            return a + b + c\n",
    "        elif b != 0 and c == 0:\n",
    "            return a + b\n",
    "        elif b == 0 and c != 0:\n",
    "            return a + c\n",
    "        else:\n",
    "            return a"
   ]
  },
  {
   "cell_type": "code",
   "execution_count": 4,
   "id": "092304a4",
   "metadata": {},
   "outputs": [],
   "source": [
    "obj1 = sum_calculation()\n",
    "obj2 = sum_calculation()\n",
    "obj3 = sum_calculation()"
   ]
  },
  {
   "cell_type": "code",
   "execution_count": 5,
   "id": "4558c7ff",
   "metadata": {},
   "outputs": [
    {
     "name": "stdout",
     "output_type": "stream",
     "text": [
      "6\n",
      "3\n",
      "1\n"
     ]
    }
   ],
   "source": [
    "print(obj1.add(1,2,3))\n",
    "print(obj1.add(1,2))\n",
    "print(obj1.add(1))"
   ]
  },
  {
   "cell_type": "code",
   "execution_count": 21,
   "id": "ae7d8f69",
   "metadata": {},
   "outputs": [],
   "source": [
    "class sum_calc:\n",
    "    def add(self, *args):\n",
    "        if len(args)==1:\n",
    "            return args[0]\n",
    "        elif len(args)==2:\n",
    "            return args[0] + args[1]\n",
    "        elif len(args)==3:\n",
    "            return args[0] + args[1] + args[2]\n",
    "        else:\n",
    "            sums = 0\n",
    "            for item in args:\n",
    "                sums += item\n",
    "            return sums"
   ]
  },
  {
   "cell_type": "code",
   "execution_count": 22,
   "id": "bc0c4b81",
   "metadata": {},
   "outputs": [],
   "source": [
    "item1 = sum_calc()\n",
    "item2 = sum_calc()\n",
    "item3 = sum_calc()\n",
    "item4 = sum_calc()"
   ]
  },
  {
   "cell_type": "code",
   "execution_count": 23,
   "id": "bb1b23b2",
   "metadata": {},
   "outputs": [
    {
     "name": "stdout",
     "output_type": "stream",
     "text": [
      "1\n",
      "3\n",
      "6\n"
     ]
    }
   ],
   "source": [
    "print(item1.add(1))\n",
    "print(item2.add(1,2))\n",
    "print(item3.add(1,2,3))"
   ]
  },
  {
   "cell_type": "code",
   "execution_count": 24,
   "id": "160f682a",
   "metadata": {},
   "outputs": [
    {
     "name": "stdout",
     "output_type": "stream",
     "text": [
      "10\n"
     ]
    }
   ],
   "source": [
    "print(item4.add(1,2,3,4))"
   ]
  },
  {
   "cell_type": "code",
   "execution_count": null,
   "id": "3cb08c65",
   "metadata": {},
   "outputs": [],
   "source": []
  }
 ],
 "metadata": {
  "kernelspec": {
   "display_name": "Python 3 (ipykernel)",
   "language": "python",
   "name": "python3"
  },
  "language_info": {
   "codemirror_mode": {
    "name": "ipython",
    "version": 3
   },
   "file_extension": ".py",
   "mimetype": "text/x-python",
   "name": "python",
   "nbconvert_exporter": "python",
   "pygments_lexer": "ipython3",
   "version": "3.10.0"
  }
 },
 "nbformat": 4,
 "nbformat_minor": 5
}
