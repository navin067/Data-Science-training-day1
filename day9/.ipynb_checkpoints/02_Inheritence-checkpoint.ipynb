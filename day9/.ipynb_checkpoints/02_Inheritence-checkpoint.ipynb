{
 "cells": [
  {
   "cell_type": "code",
   "execution_count": 2,
   "id": "41707fd4",
   "metadata": {},
   "outputs": [],
   "source": [
    "class Students:\n",
    "    def __init__(self, name, age):\n",
    "        self.name = name\n",
    "        self.age = age\n",
    "        \n",
    "    def intro(self):\n",
    "        print(\"I am among a student.\")\n",
    "\n",
    "class Student(Students):\n",
    "    def __init__(self, name, age, faculty, batch):\n",
    "        super().__init__(name,age)\n",
    "        self.faculty = faculty\n",
    "        self.batch = batch\n",
    "    \n",
    "    def student_details(self):\n",
    "        print(f\"{self.name} aged {self.age} is a student studying {self.faculty} enrolled in the year {self.batch}.\")"
   ]
  },
  {
   "cell_type": "code",
   "execution_count": 9,
   "id": "26895817",
   "metadata": {},
   "outputs": [],
   "source": [
    "stu1 = Student('Navin',23,'data science',2023)\n",
    "stud = Students('Aastha', 22)"
   ]
  },
  {
   "cell_type": "code",
   "execution_count": 11,
   "id": "dc9fa6e1",
   "metadata": {},
   "outputs": [
    {
     "name": "stdout",
     "output_type": "stream",
     "text": [
      "<class '__main__.Student'>\n",
      "<class '__main__.Students'>\n"
     ]
    }
   ],
   "source": [
    "print(type(stu1))\n",
    "print(type(stud))"
   ]
  },
  {
   "cell_type": "code",
   "execution_count": 5,
   "id": "23e5ca3e",
   "metadata": {},
   "outputs": [
    {
     "name": "stdout",
     "output_type": "stream",
     "text": [
      "I am among a student.\n"
     ]
    }
   ],
   "source": [
    "stu1.intro()"
   ]
  },
  {
   "cell_type": "code",
   "execution_count": 6,
   "id": "8bb918ce",
   "metadata": {},
   "outputs": [
    {
     "name": "stdout",
     "output_type": "stream",
     "text": [
      "Navin aged 23 is a student studying data science enrolled in the year 2023.\n"
     ]
    }
   ],
   "source": [
    "stu1.student_details()"
   ]
  },
  {
   "cell_type": "code",
   "execution_count": 12,
   "id": "a10e08f2",
   "metadata": {},
   "outputs": [
    {
     "name": "stdout",
     "output_type": "stream",
     "text": [
      "I am among a student.\n"
     ]
    }
   ],
   "source": [
    "stud.intro()"
   ]
  },
  {
   "cell_type": "code",
   "execution_count": 13,
   "id": "563bda27",
   "metadata": {},
   "outputs": [
    {
     "ename": "AttributeError",
     "evalue": "'Students' object has no attribute 'student_details'",
     "output_type": "error",
     "traceback": [
      "\u001b[1;31m---------------------------------------------------------------------------\u001b[0m",
      "\u001b[1;31mAttributeError\u001b[0m                            Traceback (most recent call last)",
      "Cell \u001b[1;32mIn[13], line 1\u001b[0m\n\u001b[1;32m----> 1\u001b[0m \u001b[43mstud\u001b[49m\u001b[38;5;241;43m.\u001b[39;49m\u001b[43mstudent_details\u001b[49m() \u001b[38;5;66;03m#this will be error as student is object of students thus has no access to methods inside student\u001b[39;00m\n",
      "\u001b[1;31mAttributeError\u001b[0m: 'Students' object has no attribute 'student_details'"
     ]
    }
   ],
   "source": [
    "stud.student_details() #this will be error as student is object of students thus has no access to methods inside student"
   ]
  },
  {
   "cell_type": "code",
   "execution_count": 14,
   "id": "36e66e69",
   "metadata": {},
   "outputs": [
    {
     "ename": "TypeError",
     "evalue": "Student.__init__() missing 2 required positional arguments: 'faculty' and 'batch'",
     "output_type": "error",
     "traceback": [
      "\u001b[1;31m---------------------------------------------------------------------------\u001b[0m",
      "\u001b[1;31mTypeError\u001b[0m                                 Traceback (most recent call last)",
      "Cell \u001b[1;32mIn[14], line 1\u001b[0m\n\u001b[1;32m----> 1\u001b[0m stu2 \u001b[38;5;241m=\u001b[39m \u001b[43mStudent\u001b[49m\u001b[43m(\u001b[49m\u001b[38;5;124;43m'\u001b[39;49m\u001b[38;5;124;43masmita\u001b[39;49m\u001b[38;5;124;43m'\u001b[39;49m\u001b[43m,\u001b[49m\u001b[38;5;241;43m24\u001b[39;49m\u001b[43m)\u001b[49m\n",
      "\u001b[1;31mTypeError\u001b[0m: Student.__init__() missing 2 required positional arguments: 'faculty' and 'batch'"
     ]
    }
   ],
   "source": [
    "stu2 = Student('asmita',24)"
   ]
  },
  {
   "cell_type": "markdown",
   "id": "f389f5bc",
   "metadata": {},
   "source": [
    "## Multiple inheritence"
   ]
  },
  {
   "cell_type": "code",
   "execution_count": 20,
   "id": "64c53bae",
   "metadata": {},
   "outputs": [],
   "source": [
    "class Parent1:\n",
    "    def func1(self):\n",
    "        print(\"this is a parent 1\")\n",
    "    def func(self):\n",
    "        print(\"i m in parent 1\")\n",
    "        \n",
    "class Parent2:\n",
    "    def func2(self):\n",
    "        print(\"this is a parent 2\")\n",
    "    def func(self):\n",
    "        print(\"i m in parent 1\")\n",
    "        \n",
    "class Child(Parent1, Parent2):\n",
    "    def func3(self):\n",
    "        print(\"this is a child\")"
   ]
  },
  {
   "cell_type": "code",
   "execution_count": 21,
   "id": "e45c9068",
   "metadata": {},
   "outputs": [],
   "source": [
    "child1 = Child()"
   ]
  },
  {
   "cell_type": "code",
   "execution_count": 22,
   "id": "355c11e8",
   "metadata": {},
   "outputs": [
    {
     "name": "stdout",
     "output_type": "stream",
     "text": [
      "this is a child\n"
     ]
    }
   ],
   "source": [
    "child1.func3()"
   ]
  },
  {
   "cell_type": "code",
   "execution_count": 23,
   "id": "9a527224",
   "metadata": {},
   "outputs": [
    {
     "name": "stdout",
     "output_type": "stream",
     "text": [
      "this is a parent 1\n",
      "this is a parent 2\n",
      "i m in parent 1\n",
      "this is a child\n"
     ]
    }
   ],
   "source": [
    "child1.func1()\n",
    "child1.func2()\n",
    "child1.func()\n",
    "child1.func3()"
   ]
  },
  {
   "cell_type": "code",
   "execution_count": 33,
   "id": "0a0149e3",
   "metadata": {},
   "outputs": [],
   "source": [
    "class add_1:\n",
    "    def __init__(self, a, b):\n",
    "        self.a = a\n",
    "        self.b = b\n",
    "        print(self.a + self.b)\n",
    "        \n",
    "class add_2:\n",
    "    def __init__(self, a, b):\n",
    "        self.a = a\n",
    "        self.b = b\n",
    "        print(self.a * self.b)\n",
    "        \n",
    "class child_class(add_1, add_2):\n",
    "    def __init__(self,num1,num2,num3,num4):\n",
    "        super().__init__(num1, num2)"
   ]
  },
  {
   "cell_type": "code",
   "execution_count": 34,
   "id": "ca60ff63",
   "metadata": {},
   "outputs": [
    {
     "name": "stdout",
     "output_type": "stream",
     "text": [
      "3\n"
     ]
    }
   ],
   "source": [
    "obj1 = child_class(1,2,3,4)"
   ]
  },
  {
   "cell_type": "markdown",
   "id": "804819a7",
   "metadata": {},
   "source": [
    "## Multi-level inheritence"
   ]
  },
  {
   "cell_type": "code",
   "execution_count": 35,
   "id": "b5613512",
   "metadata": {},
   "outputs": [],
   "source": [
    "class A:\n",
    "    def method_A(self):\n",
    "        print(\"i am in class A\")\n",
    "\n",
    "class B(A):\n",
    "    def method_B(self):\n",
    "        print(\"i am in class B\")\n",
    "\n",
    "class C(B):\n",
    "    def method_C(self):\n",
    "        print(\"i am in class C\")"
   ]
  },
  {
   "cell_type": "code",
   "execution_count": 36,
   "id": "872bbe69",
   "metadata": {},
   "outputs": [],
   "source": [
    "obj = C()"
   ]
  },
  {
   "cell_type": "code",
   "execution_count": 37,
   "id": "78f39979",
   "metadata": {},
   "outputs": [
    {
     "name": "stdout",
     "output_type": "stream",
     "text": [
      "i am in class C\n",
      "i am in class A\n",
      "i am in class B\n"
     ]
    }
   ],
   "source": [
    "obj.method_C()\n",
    "obj.method_A()\n",
    "obj.method_B()"
   ]
  },
  {
   "cell_type": "code",
   "execution_count": 38,
   "id": "06174696",
   "metadata": {},
   "outputs": [],
   "source": [
    "class Add:\n",
    "    def __init__(self, num1, num2):\n",
    "        self.num1 = num1\n",
    "        self.num2 = num2\n",
    "    def print_sum(self):\n",
    "        print(self.num1 + self.num2)\n",
    "\n",
    "class Subs(Add):\n",
    "    def print_multiply(self):\n",
    "        print(self.num1 * self.num2)\n",
    "\n",
    "class Calc(Subs):\n",
    "    def __init__(self,a,b):\n",
    "        super().__init__(a,b)"
   ]
  },
  {
   "cell_type": "code",
   "execution_count": 39,
   "id": "d5eeac2f",
   "metadata": {},
   "outputs": [],
   "source": [
    "test = Calc(2,3)"
   ]
  },
  {
   "cell_type": "code",
   "execution_count": 40,
   "id": "e7757b49",
   "metadata": {},
   "outputs": [
    {
     "name": "stdout",
     "output_type": "stream",
     "text": [
      "2\n"
     ]
    }
   ],
   "source": [
    "print(test.num1)"
   ]
  },
  {
   "cell_type": "code",
   "execution_count": 41,
   "id": "688b8b2a",
   "metadata": {},
   "outputs": [
    {
     "name": "stdout",
     "output_type": "stream",
     "text": [
      "5\n",
      "6\n"
     ]
    }
   ],
   "source": [
    "test.print_sum()\n",
    "test.print_multiply()"
   ]
  },
  {
   "cell_type": "markdown",
   "id": "9d174f9f",
   "metadata": {},
   "source": [
    "## Hierarchical inheritence"
   ]
  },
  {
   "cell_type": "code",
   "execution_count": 47,
   "id": "ec72bc85",
   "metadata": {},
   "outputs": [],
   "source": [
    "class Animals:\n",
    "    def __init__(self,name):\n",
    "        self.name = name\n",
    "class Cat(Animals):\n",
    "    def __init__(self, name):\n",
    "        super().__init__(name)\n",
    "    def speak(self):\n",
    "        print(\"meow\")\n",
    "class Dog(Animals):\n",
    "    def __init__(self, name):\n",
    "        super().__init__(name)\n",
    "    def speak(self):\n",
    "        print(\"woof\")\n",
    "class Lion(Animals):\n",
    "    def __init__(self, name):\n",
    "        super().__init__(name)\n",
    "    def speak(self):\n",
    "        print(\"roarrr\")"
   ]
  },
  {
   "cell_type": "code",
   "execution_count": 48,
   "id": "f4031239",
   "metadata": {},
   "outputs": [],
   "source": [
    "cat1 = Cat('fluffy')\n",
    "dog1 = Dog('Vugu')\n",
    "lion1 = Lion('mufasa')"
   ]
  },
  {
   "cell_type": "code",
   "execution_count": 46,
   "id": "9cccd9bf",
   "metadata": {},
   "outputs": [
    {
     "name": "stdout",
     "output_type": "stream",
     "text": [
      "meow\n",
      "woof\n",
      "roarrr\n"
     ]
    }
   ],
   "source": [
    "cat1.speak()\n",
    "dog1.speak()\n",
    "lion1.speak()"
   ]
  },
  {
   "cell_type": "code",
   "execution_count": 49,
   "id": "7b2ec4df",
   "metadata": {},
   "outputs": [
    {
     "ename": "TypeError",
     "evalue": "'str' object is not callable",
     "output_type": "error",
     "traceback": [
      "\u001b[1;31m---------------------------------------------------------------------------\u001b[0m",
      "\u001b[1;31mTypeError\u001b[0m                                 Traceback (most recent call last)",
      "Cell \u001b[1;32mIn[49], line 1\u001b[0m\n\u001b[1;32m----> 1\u001b[0m \u001b[43mcat1\u001b[49m\u001b[38;5;241;43m.\u001b[39;49m\u001b[43mname\u001b[49m\u001b[43m(\u001b[49m\u001b[43m)\u001b[49m\n",
      "\u001b[1;31mTypeError\u001b[0m: 'str' object is not callable"
     ]
    }
   ],
   "source": [
    "cat1.name()"
   ]
  },
  {
   "cell_type": "code",
   "execution_count": 50,
   "id": "71ba3ced",
   "metadata": {},
   "outputs": [
    {
     "name": "stdout",
     "output_type": "stream",
     "text": [
      "fluffy\n"
     ]
    }
   ],
   "source": [
    "print(cat1.name)"
   ]
  },
  {
   "cell_type": "markdown",
   "id": "8967d537",
   "metadata": {},
   "source": [
    "## hybrid inheritence\n",
    "\n",
    "Combination of different types of inheritences mentioned above"
   ]
  },
  {
   "cell_type": "code",
   "execution_count": null,
   "id": "3f2a046b",
   "metadata": {},
   "outputs": [],
   "source": []
  }
 ],
 "metadata": {
  "kernelspec": {
   "display_name": "Python 3 (ipykernel)",
   "language": "python",
   "name": "python3"
  },
  "language_info": {
   "codemirror_mode": {
    "name": "ipython",
    "version": 3
   },
   "file_extension": ".py",
   "mimetype": "text/x-python",
   "name": "python",
   "nbconvert_exporter": "python",
   "pygments_lexer": "ipython3",
   "version": "3.10.0"
  }
 },
 "nbformat": 4,
 "nbformat_minor": 5
}
