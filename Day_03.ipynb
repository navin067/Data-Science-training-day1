{
 "cells": [
  {
   "cell_type": "markdown",
   "id": "1e60ddc3",
   "metadata": {},
   "source": [
    "# Numeric types\n",
    "1. Interger (int)--Real numbers\n",
    "2. Float (float)--Decimal numbes\n",
    "3. Complex (complex)--complex numbers (a + jb)"
   ]
  },
  {
   "cell_type": "code",
   "execution_count": 1,
   "id": "9ac20311",
   "metadata": {},
   "outputs": [],
   "source": [
    "a = 125"
   ]
  },
  {
   "cell_type": "code",
   "execution_count": 2,
   "id": "5e7ea79b",
   "metadata": {},
   "outputs": [
    {
     "data": {
      "text/plain": [
       "int"
      ]
     },
     "execution_count": 2,
     "metadata": {},
     "output_type": "execute_result"
    }
   ],
   "source": [
    "type(a)"
   ]
  },
  {
   "cell_type": "markdown",
   "id": "b55d1fff",
   "metadata": {},
   "source": [
    "##Float type"
   ]
  },
  {
   "cell_type": "code",
   "execution_count": 3,
   "id": "a14a0eea",
   "metadata": {},
   "outputs": [],
   "source": [
    "b = 123.12"
   ]
  },
  {
   "cell_type": "code",
   "execution_count": 4,
   "id": "85058ffa",
   "metadata": {},
   "outputs": [
    {
     "data": {
      "text/plain": [
       "float"
      ]
     },
     "execution_count": 4,
     "metadata": {},
     "output_type": "execute_result"
    }
   ],
   "source": [
    "type(b)"
   ]
  },
  {
   "cell_type": "markdown",
   "id": "b752e0b6",
   "metadata": {},
   "source": [
    "##Complex type"
   ]
  },
  {
   "cell_type": "code",
   "execution_count": 5,
   "id": "66898943",
   "metadata": {},
   "outputs": [],
   "source": [
    "c = 1 + 3j\n",
    "d = complex(4,6)"
   ]
  },
  {
   "cell_type": "code",
   "execution_count": 6,
   "id": "105fe0bb",
   "metadata": {},
   "outputs": [
    {
     "data": {
      "text/plain": [
       "complex"
      ]
     },
     "execution_count": 6,
     "metadata": {},
     "output_type": "execute_result"
    }
   ],
   "source": [
    "type(c)\n",
    "type(d)"
   ]
  },
  {
   "cell_type": "markdown",
   "id": "6ac3a278",
   "metadata": {},
   "source": [
    "##Test"
   ]
  },
  {
   "cell_type": "markdown",
   "id": "237068ac",
   "metadata": {},
   "source": [
    "Test"
   ]
  },
  {
   "cell_type": "markdown",
   "id": "f9fd04d5",
   "metadata": {},
   "source": [
    "## Type conversion"
   ]
  },
  {
   "cell_type": "code",
   "execution_count": 7,
   "id": "4c232087",
   "metadata": {},
   "outputs": [],
   "source": [
    "a = 12"
   ]
  },
  {
   "cell_type": "code",
   "execution_count": 8,
   "id": "47fedd73",
   "metadata": {},
   "outputs": [
    {
     "data": {
      "text/plain": [
       "int"
      ]
     },
     "execution_count": 8,
     "metadata": {},
     "output_type": "execute_result"
    }
   ],
   "source": [
    "type(a)"
   ]
  },
  {
   "cell_type": "code",
   "execution_count": 9,
   "id": "a223643a",
   "metadata": {},
   "outputs": [],
   "source": [
    "a = float(a)"
   ]
  },
  {
   "cell_type": "code",
   "execution_count": 10,
   "id": "b21007e8",
   "metadata": {},
   "outputs": [
    {
     "data": {
      "text/plain": [
       "float"
      ]
     },
     "execution_count": 10,
     "metadata": {},
     "output_type": "execute_result"
    }
   ],
   "source": [
    "type(a)"
   ]
  },
  {
   "cell_type": "code",
   "execution_count": 11,
   "id": "915f3a8f",
   "metadata": {},
   "outputs": [],
   "source": [
    "b = 124.678\n",
    "b = int(b)"
   ]
  },
  {
   "cell_type": "code",
   "execution_count": 12,
   "id": "647b168d",
   "metadata": {},
   "outputs": [
    {
     "data": {
      "text/plain": [
       "124"
      ]
     },
     "execution_count": 12,
     "metadata": {},
     "output_type": "execute_result"
    }
   ],
   "source": [
    "type(b)\n",
    "b"
   ]
  },
  {
   "cell_type": "code",
   "execution_count": null,
   "id": "3c253ac3",
   "metadata": {},
   "outputs": [],
   "source": []
  }
 ],
 "metadata": {
  "kernelspec": {
   "display_name": "Python 3 (ipykernel)",
   "language": "python",
   "name": "python3"
  },
  "language_info": {
   "codemirror_mode": {
    "name": "ipython",
    "version": 3
   },
   "file_extension": ".py",
   "mimetype": "text/x-python",
   "name": "python",
   "nbconvert_exporter": "python",
   "pygments_lexer": "ipython3",
   "version": "3.10.0"
  }
 },
 "nbformat": 4,
 "nbformat_minor": 5
}
