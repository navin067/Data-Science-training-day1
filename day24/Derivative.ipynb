{
 "cells": [
  {
   "cell_type": "markdown",
   "id": "222791f5",
   "metadata": {},
   "source": [
    "## Limit of a function"
   ]
  },
  {
   "cell_type": "code",
   "execution_count": 1,
   "id": "56e71e0c",
   "metadata": {},
   "outputs": [
    {
     "name": "stdout",
     "output_type": "stream",
     "text": [
      "Collecting sympy\n",
      "  Downloading sympy-1.12-py3-none-any.whl (5.7 MB)\n",
      "                                              0.0/5.7 MB ? eta -:--:--\n",
      "                                              0.0/5.7 MB 640.0 kB/s eta 0:00:09\n",
      "                                              0.0/5.7 MB 326.8 kB/s eta 0:00:18\n",
      "                                              0.1/5.7 MB 726.2 kB/s eta 0:00:08\n",
      "                                              0.1/5.7 MB 726.2 kB/s eta 0:00:08\n",
      "                                              0.1/5.7 MB 726.2 kB/s eta 0:00:08\n",
      "                                              0.1/5.7 MB 726.2 kB/s eta 0:00:08\n",
      "     -                                        0.2/5.7 MB 718.0 kB/s eta 0:00:08\n",
      "     -                                        0.2/5.7 MB 718.0 kB/s eta 0:00:08\n",
      "     -                                        0.3/5.7 MB 655.2 kB/s eta 0:00:09\n",
      "     --                                       0.4/5.7 MB 742.3 kB/s eta 0:00:08\n",
      "     --                                       0.4/5.7 MB 793.8 kB/s eta 0:00:07\n",
      "     ---                                      0.6/5.7 MB 964.0 kB/s eta 0:00:06\n",
      "     ----                                     0.7/5.7 MB 1.1 MB/s eta 0:00:05\n",
      "     -----                                    0.8/5.7 MB 1.2 MB/s eta 0:00:05\n",
      "     ------                                   0.9/5.7 MB 1.3 MB/s eta 0:00:04\n",
      "     -------                                  1.1/5.7 MB 1.4 MB/s eta 0:00:04\n",
      "     --------                                 1.2/5.7 MB 1.5 MB/s eta 0:00:04\n",
      "     ---------                                1.4/5.7 MB 1.6 MB/s eta 0:00:03\n",
      "     ---------                                1.4/5.7 MB 1.6 MB/s eta 0:00:03\n",
      "     ----------                               1.5/5.7 MB 1.6 MB/s eta 0:00:03\n",
      "     -----------                              1.7/5.7 MB 1.7 MB/s eta 0:00:03\n",
      "     ------------                             1.8/5.7 MB 1.8 MB/s eta 0:00:03\n",
      "     -------------                            1.9/5.7 MB 1.8 MB/s eta 0:00:03\n",
      "     --------------                           2.1/5.7 MB 1.8 MB/s eta 0:00:03\n",
      "     ---------------                          2.3/5.7 MB 1.9 MB/s eta 0:00:02\n",
      "     ----------------                         2.4/5.7 MB 2.0 MB/s eta 0:00:02\n",
      "     ------------------                       2.6/5.7 MB 2.0 MB/s eta 0:00:02\n",
      "     ------------------                       2.7/5.7 MB 2.1 MB/s eta 0:00:02\n",
      "     --------------------                     3.0/5.7 MB 2.2 MB/s eta 0:00:02\n",
      "     ---------------------                    3.1/5.7 MB 2.2 MB/s eta 0:00:02\n",
      "     ----------------------                   3.3/5.7 MB 2.3 MB/s eta 0:00:02\n",
      "     -----------------------                  3.4/5.7 MB 2.3 MB/s eta 0:00:02\n",
      "     -------------------------                3.7/5.7 MB 2.3 MB/s eta 0:00:01\n",
      "     --------------------------               3.8/5.7 MB 2.4 MB/s eta 0:00:01\n",
      "     --------------------------               3.9/5.7 MB 2.3 MB/s eta 0:00:01\n",
      "     ----------------------------             4.1/5.7 MB 2.4 MB/s eta 0:00:01\n",
      "     -----------------------------            4.3/5.7 MB 2.5 MB/s eta 0:00:01\n",
      "     -------------------------------          4.5/5.7 MB 2.5 MB/s eta 0:00:01\n",
      "     ---------------------------------        4.7/5.7 MB 2.6 MB/s eta 0:00:01\n",
      "     -----------------------------------      5.0/5.7 MB 2.7 MB/s eta 0:00:01\n",
      "     ------------------------------------     5.2/5.7 MB 2.7 MB/s eta 0:00:01\n",
      "     --------------------------------------   5.5/5.7 MB 2.8 MB/s eta 0:00:01\n",
      "     ---------------------------------------  5.7/5.7 MB 2.8 MB/s eta 0:00:01\n",
      "     ---------------------------------------  5.7/5.7 MB 2.8 MB/s eta 0:00:01\n",
      "     ---------------------------------------  5.7/5.7 MB 2.8 MB/s eta 0:00:01\n",
      "     ---------------------------------------  5.7/5.7 MB 2.8 MB/s eta 0:00:01\n",
      "     ---------------------------------------- 5.7/5.7 MB 2.6 MB/s eta 0:00:00\n",
      "Collecting mpmath>=0.19 (from sympy)\n",
      "  Downloading mpmath-1.3.0-py3-none-any.whl (536 kB)\n",
      "                                              0.0/536.2 kB ? eta -:--:--\n",
      "     ------------------------------        440.3/536.2 kB 13.4 MB/s eta 0:00:01\n",
      "     -------------------------------------  522.2/536.2 kB 8.1 MB/s eta 0:00:01\n",
      "     -------------------------------------  522.2/536.2 kB 8.1 MB/s eta 0:00:01\n",
      "     -------------------------------------  532.5/536.2 kB 3.7 MB/s eta 0:00:01\n",
      "     -------------------------------------- 536.2/536.2 kB 2.6 MB/s eta 0:00:00\n",
      "Installing collected packages: mpmath, sympy\n",
      "Successfully installed mpmath-1.3.0 sympy-1.12\n"
     ]
    },
    {
     "name": "stderr",
     "output_type": "stream",
     "text": [
      "\n",
      "[notice] A new release of pip is available: 23.1 -> 23.1.2\n",
      "[notice] To update, run: python.exe -m pip install --upgrade pip\n"
     ]
    }
   ],
   "source": [
    "!pip install sympy"
   ]
  },
  {
   "cell_type": "code",
   "execution_count": 2,
   "id": "21f9cfd5",
   "metadata": {},
   "outputs": [
    {
     "name": "stdout",
     "output_type": "stream",
     "text": [
      "2\n"
     ]
    }
   ],
   "source": [
    "import sympy as sp\n",
    "\n",
    "x = sp.symbols('x')\n",
    "f = (x ** 2 - 1)/(x-1) \n",
    "\n",
    "limit = sp.limit(f,x,1)\n",
    "\n",
    "print(limit)"
   ]
  },
  {
   "cell_type": "code",
   "execution_count": 4,
   "id": "50ac8f3e",
   "metadata": {},
   "outputs": [
    {
     "name": "stdout",
     "output_type": "stream",
     "text": [
      "cos(x)\n"
     ]
    }
   ],
   "source": [
    "import sympy as sp\n",
    "\n",
    "x = sp.symbols('x')\n",
    "f = sp.sin(x)\n",
    "dfdx = sp.diff(f,x)\n",
    "\n",
    "print(dfdx)"
   ]
  },
  {
   "cell_type": "code",
   "execution_count": null,
   "id": "78eeda09",
   "metadata": {},
   "outputs": [],
   "source": []
  }
 ],
 "metadata": {
  "kernelspec": {
   "display_name": "Python 3 (ipykernel)",
   "language": "python",
   "name": "python3"
  },
  "language_info": {
   "codemirror_mode": {
    "name": "ipython",
    "version": 3
   },
   "file_extension": ".py",
   "mimetype": "text/x-python",
   "name": "python",
   "nbconvert_exporter": "python",
   "pygments_lexer": "ipython3",
   "version": "3.10.0"
  }
 },
 "nbformat": 4,
 "nbformat_minor": 5
}
