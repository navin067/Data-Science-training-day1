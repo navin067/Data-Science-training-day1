{
 "cells": [
  {
   "cell_type": "markdown",
   "id": "076ac139",
   "metadata": {},
   "source": [
    "# Find derivatives of different functions"
   ]
  },
  {
   "cell_type": "code",
   "execution_count": 1,
   "id": "ae49221b",
   "metadata": {},
   "outputs": [
    {
     "name": "stdout",
     "output_type": "stream",
     "text": [
      "cos(x)\n"
     ]
    }
   ],
   "source": [
    "import sympy as sp\n",
    "\n",
    "x = sp.symbols('x')\n",
    "f = sp.sin(x)\n",
    "dfdx = sp.diff(f,x)\n",
    "\n",
    "print(dfdx)"
   ]
  },
  {
   "cell_type": "code",
   "execution_count": 2,
   "id": "a0870650",
   "metadata": {},
   "outputs": [
    {
     "name": "stdout",
     "output_type": "stream",
     "text": [
      "-sin(x)\n"
     ]
    }
   ],
   "source": [
    "import sympy as sp\n",
    "\n",
    "x = sp.symbols('x')\n",
    "f = sp.cos(x)\n",
    "dfdx = sp.diff(f,x)\n",
    "\n",
    "print(dfdx)"
   ]
  },
  {
   "cell_type": "code",
   "execution_count": 3,
   "id": "f2dad7cc",
   "metadata": {},
   "outputs": [
    {
     "name": "stdout",
     "output_type": "stream",
     "text": [
      "tan(x)**2 + 1\n"
     ]
    }
   ],
   "source": [
    "import sympy as sp\n",
    "\n",
    "x = sp.symbols('x')\n",
    "f = sp.tan(x)\n",
    "dfdx = sp.diff(f,x)\n",
    "\n",
    "print(dfdx)"
   ]
  },
  {
   "cell_type": "code",
   "execution_count": 4,
   "id": "37aa0bfd",
   "metadata": {},
   "outputs": [
    {
     "name": "stdout",
     "output_type": "stream",
     "text": [
      "1/x\n"
     ]
    }
   ],
   "source": [
    "import sympy as sp\n",
    "\n",
    "x = sp.symbols('x')\n",
    "f = sp.ln(x)\n",
    "dfdx = sp.diff(f,x)\n",
    "\n",
    "print(dfdx)"
   ]
  },
  {
   "cell_type": "code",
   "execution_count": 21,
   "id": "c0e7eb8f",
   "metadata": {},
   "outputs": [
    {
     "name": "stdout",
     "output_type": "stream",
     "text": [
      "a*exp(a*x)\n"
     ]
    }
   ],
   "source": [
    "import sympy as sp\n",
    "\n",
    "x = sp.symbols('x')\n",
    "\n",
    "f = sp.exp(a*x)\n",
    "dfdx = sp.diff(f,x)\n",
    "\n",
    "print(dfdx)"
   ]
  },
  {
   "cell_type": "code",
   "execution_count": 24,
   "id": "1c7e5c3f",
   "metadata": {},
   "outputs": [
    {
     "name": "stdout",
     "output_type": "stream",
     "text": [
      "n*x**n/x\n"
     ]
    }
   ],
   "source": [
    "import sympy as sp\n",
    "\n",
    "x = sp.symbols('x')\n",
    "n = sp.symbols('n')\n",
    "f = x**n\n",
    "dfdx = sp.diff(f,x)\n",
    "\n",
    "print(dfdx)"
   ]
  },
  {
   "cell_type": "code",
   "execution_count": 33,
   "id": "ad09d1aa",
   "metadata": {},
   "outputs": [
    {
     "name": "stdout",
     "output_type": "stream",
     "text": [
      "Derivative(g(x), x) + Derivative(h(x), x)\n"
     ]
    }
   ],
   "source": [
    "import sympy as sp\n",
    "\n",
    "x = sp.symbols('x')\n",
    "g = sp.Function('g')(x)\n",
    "h = sp.Function('h')(x)\n",
    "f = g + h\n",
    "dfdx = sp.diff(f,x)\n",
    "\n",
    "print(dfdx)"
   ]
  },
  {
   "cell_type": "code",
   "execution_count": 34,
   "id": "4ea246fe",
   "metadata": {},
   "outputs": [
    {
     "name": "stdout",
     "output_type": "stream",
     "text": [
      "g(x)*Derivative(h(x), x) + h(x)*Derivative(g(x), x)\n"
     ]
    }
   ],
   "source": [
    "import sympy as sp\n",
    "\n",
    "x = sp.symbols('x')\n",
    "g = sp.Function('g')(x)\n",
    "h = sp.Function('h')(x)\n",
    "f = g * h\n",
    "dfdx = sp.diff(f,x)\n",
    "\n",
    "print(dfdx)"
   ]
  },
  {
   "cell_type": "code",
   "execution_count": 35,
   "id": "6cbf7a42",
   "metadata": {},
   "outputs": [
    {
     "name": "stdout",
     "output_type": "stream",
     "text": [
      "-g(x)*Derivative(h(x), x)/h(x)**2 + Derivative(g(x), x)/h(x)\n"
     ]
    }
   ],
   "source": [
    "import sympy as sp\n",
    "\n",
    "x = sp.symbols('x')\n",
    "g = sp.Function('g')(x)\n",
    "h = sp.Function('h')(x)\n",
    "f = g / h\n",
    "dfdx = sp.diff(f,x)\n",
    "\n",
    "print(dfdx)"
   ]
  },
  {
   "cell_type": "code",
   "execution_count": 40,
   "id": "88bba6d9",
   "metadata": {},
   "outputs": [
    {
     "name": "stdout",
     "output_type": "stream",
     "text": [
      "Derivative(g(h(x)), (h(x), 2))*Derivative(h(x), x)\n"
     ]
    }
   ],
   "source": [
    "import sympy as sp\n",
    "\n",
    "x = sp.symbols('x')\n",
    "g = sp.Function('g')(x)\n",
    "h = sp.Function('h')(x)\n",
    "f = g.subs(x,h)\n",
    "dfdx = sp.diff(f,h,x)\n",
    "\n",
    "print(dfdx)"
   ]
  },
  {
   "cell_type": "code",
   "execution_count": null,
   "id": "0913fba2",
   "metadata": {},
   "outputs": [],
   "source": []
  }
 ],
 "metadata": {
  "kernelspec": {
   "display_name": "Python 3 (ipykernel)",
   "language": "python",
   "name": "python3"
  },
  "language_info": {
   "codemirror_mode": {
    "name": "ipython",
    "version": 3
   },
   "file_extension": ".py",
   "mimetype": "text/x-python",
   "name": "python",
   "nbconvert_exporter": "python",
   "pygments_lexer": "ipython3",
   "version": "3.10.0"
  }
 },
 "nbformat": 4,
 "nbformat_minor": 5
}
