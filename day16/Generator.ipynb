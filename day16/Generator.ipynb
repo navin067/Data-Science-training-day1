{
 "cells": [
  {
   "cell_type": "markdown",
   "id": "35e51e06",
   "metadata": {},
   "source": [
    "# Generator"
   ]
  },
  {
   "cell_type": "code",
   "execution_count": 1,
   "id": "e76bc453",
   "metadata": {},
   "outputs": [],
   "source": [
    "def num_generator(start, end):\n",
    "    for num in range(start, end + 1):\n",
    "        yield num"
   ]
  },
  {
   "cell_type": "code",
   "execution_count": 2,
   "id": "26d9cf8f",
   "metadata": {},
   "outputs": [],
   "source": [
    "my_generator = num_generator(1,10)"
   ]
  },
  {
   "cell_type": "code",
   "execution_count": 3,
   "id": "aba33a43",
   "metadata": {},
   "outputs": [
    {
     "name": "stdout",
     "output_type": "stream",
     "text": [
      "<generator object num_generator at 0x0000015DB87F3E60>\n"
     ]
    }
   ],
   "source": [
    "print(my_generator)"
   ]
  },
  {
   "cell_type": "code",
   "execution_count": 4,
   "id": "f9397bf6",
   "metadata": {},
   "outputs": [
    {
     "name": "stdout",
     "output_type": "stream",
     "text": [
      "1\n",
      "2\n",
      "3\n"
     ]
    }
   ],
   "source": [
    "print(next(my_generator))\n",
    "print(next(my_generator))\n",
    "print(next(my_generator))"
   ]
  },
  {
   "cell_type": "code",
   "execution_count": 5,
   "id": "fb9678f2",
   "metadata": {},
   "outputs": [],
   "source": [
    "my_second_generator = num_generator(1,10)"
   ]
  },
  {
   "cell_type": "code",
   "execution_count": 6,
   "id": "24f6fd00",
   "metadata": {},
   "outputs": [
    {
     "name": "stdout",
     "output_type": "stream",
     "text": [
      "1\n",
      "2\n"
     ]
    }
   ],
   "source": [
    "print(next(my_second_generator))\n",
    "print(next(my_second_generator))"
   ]
  },
  {
   "cell_type": "code",
   "execution_count": 7,
   "id": "75fea6a3",
   "metadata": {},
   "outputs": [
    {
     "name": "stdout",
     "output_type": "stream",
     "text": [
      "4\n"
     ]
    }
   ],
   "source": [
    "print(next(my_generator))"
   ]
  },
  {
   "cell_type": "code",
   "execution_count": 9,
   "id": "654cd272",
   "metadata": {},
   "outputs": [
    {
     "name": "stdout",
     "output_type": "stream",
     "text": [
      "1\n",
      "2\n",
      "3\n",
      "4\n",
      "5\n"
     ]
    }
   ],
   "source": [
    "my_generator3 = num_generator(1,5)\n",
    "\n",
    "for num in my_generator3:\n",
    "    print(num)"
   ]
  },
  {
   "cell_type": "code",
   "execution_count": 11,
   "id": "254e46f1",
   "metadata": {},
   "outputs": [
    {
     "name": "stdout",
     "output_type": "stream",
     "text": [
      "6\n",
      "7\n"
     ]
    }
   ],
   "source": [
    "print(next(my_generator))\n",
    "print(next(my_generator))"
   ]
  },
  {
   "cell_type": "code",
   "execution_count": 12,
   "id": "eb3b32f6",
   "metadata": {},
   "outputs": [
    {
     "name": "stdout",
     "output_type": "stream",
     "text": [
      "8\n",
      "9\n",
      "10\n"
     ]
    },
    {
     "ename": "StopIteration",
     "evalue": "",
     "output_type": "error",
     "traceback": [
      "\u001b[1;31m---------------------------------------------------------------------------\u001b[0m",
      "\u001b[1;31mStopIteration\u001b[0m                             Traceback (most recent call last)",
      "Cell \u001b[1;32mIn[12], line 4\u001b[0m\n\u001b[0;32m      2\u001b[0m \u001b[38;5;28mprint\u001b[39m(\u001b[38;5;28mnext\u001b[39m(my_generator))\n\u001b[0;32m      3\u001b[0m \u001b[38;5;28mprint\u001b[39m(\u001b[38;5;28mnext\u001b[39m(my_generator))\n\u001b[1;32m----> 4\u001b[0m \u001b[38;5;28mprint\u001b[39m(\u001b[38;5;28;43mnext\u001b[39;49m\u001b[43m(\u001b[49m\u001b[43mmy_generator\u001b[49m\u001b[43m)\u001b[49m)\n",
      "\u001b[1;31mStopIteration\u001b[0m: "
     ]
    }
   ],
   "source": [
    "print(next(my_generator))\n",
    "print(next(my_generator))\n",
    "print(next(my_generator))\n",
    "print(next(my_generator))"
   ]
  },
  {
   "cell_type": "markdown",
   "id": "45cfd154",
   "metadata": {},
   "source": [
    "## Assignment handle the above error:"
   ]
  },
  {
   "cell_type": "code",
   "execution_count": 1,
   "id": "afbb9d4f",
   "metadata": {},
   "outputs": [
    {
     "name": "stdout",
     "output_type": "stream",
     "text": [
      "1\n",
      "2\n",
      "3\n",
      "4\n",
      "5\n",
      "Range of generator exceeded.\n"
     ]
    }
   ],
   "source": [
    "def my_generator(start,end):\n",
    "     for num in range(start,end+1):\n",
    "          yield num\n",
    "\n",
    "try: \n",
    "     generator = my_generator(1,5)\n",
    "\n",
    "     print(next(generator))\n",
    "     print(next(generator))\n",
    "     print(next(generator))\n",
    "     print(next(generator))\n",
    "     print(next(generator))\n",
    "     print(next(generator))\n",
    "\n",
    "except StopIteration:\n",
    "     print(\"Range of generator exceeded.\")"
   ]
  },
  {
   "cell_type": "code",
   "execution_count": null,
   "id": "c45fb6e1",
   "metadata": {},
   "outputs": [],
   "source": []
  }
 ],
 "metadata": {
  "kernelspec": {
   "display_name": "Python 3 (ipykernel)",
   "language": "python",
   "name": "python3"
  },
  "language_info": {
   "codemirror_mode": {
    "name": "ipython",
    "version": 3
   },
   "file_extension": ".py",
   "mimetype": "text/x-python",
   "name": "python",
   "nbconvert_exporter": "python",
   "pygments_lexer": "ipython3",
   "version": "3.10.0"
  }
 },
 "nbformat": 4,
 "nbformat_minor": 5
}
