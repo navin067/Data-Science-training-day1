{
 "cells": [
  {
   "cell_type": "code",
   "execution_count": 1,
   "id": "47a584dc",
   "metadata": {},
   "outputs": [],
   "source": [
    "import pandas as pd\n",
    "import numpy as np"
   ]
  },
  {
   "cell_type": "markdown",
   "id": "eaca1452",
   "metadata": {},
   "source": [
    "## Deletion"
   ]
  },
  {
   "cell_type": "code",
   "execution_count": 2,
   "id": "0d16e30e",
   "metadata": {},
   "outputs": [
    {
     "name": "stdout",
     "output_type": "stream",
     "text": [
      "Original data:\n",
      "    col1  col2  col3\n",
      "0   1.0   6.0  11.0\n",
      "1   2.0   NaN  12.0\n",
      "2   NaN   8.0  13.0\n",
      "3   4.0   9.0   NaN\n",
      "4   5.0  10.0  15.0\n",
      "\n",
      "Dataframe after list-wise deletion:\n",
      "    col1  col2  col3\n",
      "0   1.0   6.0  11.0\n",
      "4   5.0  10.0  15.0\n",
      "\n",
      "Dataframe after pair-wise deltion:\n",
      "    col1  col2  col3\n",
      "0   1.0   6.0  11.0\n",
      "3   4.0   9.0   NaN\n",
      "4   5.0  10.0  15.0\n",
      "\n",
      "Dataframe after column-wise deletion:\n",
      " Empty DataFrame\n",
      "Columns: []\n",
      "Index: [0, 1, 2, 3, 4]\n"
     ]
    }
   ],
   "source": [
    "# Create a dataframe with missing values\n",
    "df = pd.DataFrame ({\n",
    "    'col1' :[1,2,np.nan,4,5],\n",
    "    'col2' :[6,np.nan,8,9,10],\n",
    "    'col3' :[11,12,13,np.nan,15]\n",
    "})\n",
    "\n",
    "#display the dataframe\n",
    "print(\"Original data:\\n\",df)\n",
    "\n",
    "#List wise deletion\n",
    "new_df = df.dropna()\n",
    "print(\"\\nDataframe after list-wise deletion:\\n\", new_df)\n",
    "\n",
    "# Pair-wise deletion\n",
    "new_df = df.dropna(subset=['col1', 'col2'])\n",
    "print(\"\\nDataframe after pair-wise deltion:\\n\", new_df)\n",
    "\n",
    "#Column-wise deletion\n",
    "new_df = df.dropna(axis=1)\n",
    "print(\"\\nDataframe after column-wise deletion:\\n\", new_df)"
   ]
  },
  {
   "cell_type": "markdown",
   "id": "d567e43b",
   "metadata": {},
   "source": [
    "## Imputation"
   ]
  },
  {
   "cell_type": "code",
   "execution_count": null,
   "id": "46a3b527",
   "metadata": {},
   "outputs": [],
   "source": []
  }
 ],
 "metadata": {
  "kernelspec": {
   "display_name": "Python 3 (ipykernel)",
   "language": "python",
   "name": "python3"
  },
  "language_info": {
   "codemirror_mode": {
    "name": "ipython",
    "version": 3
   },
   "file_extension": ".py",
   "mimetype": "text/x-python",
   "name": "python",
   "nbconvert_exporter": "python",
   "pygments_lexer": "ipython3",
   "version": "3.10.0"
  }
 },
 "nbformat": 4,
 "nbformat_minor": 5
}
