{
 "cells": [
  {
   "cell_type": "markdown",
   "id": "f51f70aa",
   "metadata": {},
   "source": [
    "# Class"
   ]
  },
  {
   "cell_type": "code",
   "execution_count": 7,
   "id": "7084df14",
   "metadata": {},
   "outputs": [],
   "source": [
    "class Dog:\n",
    "    def __init__(self, name, age):\n",
    "        self.name = name\n",
    "        self.age = age\n",
    "    \n",
    "    def bark(self):\n",
    "        print(f\"{self.name} is barking and he is {self.age} years old.\")"
   ]
  },
  {
   "cell_type": "code",
   "execution_count": 2,
   "id": "6bd207c4",
   "metadata": {},
   "outputs": [],
   "source": [
    "my_dog = Dog(\"Tommy\",6)"
   ]
  },
  {
   "cell_type": "code",
   "execution_count": 3,
   "id": "6cf673e8",
   "metadata": {},
   "outputs": [
    {
     "name": "stdout",
     "output_type": "stream",
     "text": [
      "<class '__main__.Dog'>\n"
     ]
    }
   ],
   "source": [
    "print(type(my_dog))"
   ]
  },
  {
   "cell_type": "code",
   "execution_count": 8,
   "id": "3c95cf27",
   "metadata": {},
   "outputs": [
    {
     "name": "stdout",
     "output_type": "stream",
     "text": [
      "Tommy is barking and he is 6 years old.\n"
     ]
    }
   ],
   "source": [
    "Dog.bark(my_dog)"
   ]
  },
  {
   "cell_type": "code",
   "execution_count": 9,
   "id": "ff9e2549",
   "metadata": {},
   "outputs": [
    {
     "name": "stdout",
     "output_type": "stream",
     "text": [
      "2382089544000\n"
     ]
    }
   ],
   "source": [
    "print(id(my_dog))"
   ]
  },
  {
   "cell_type": "code",
   "execution_count": 10,
   "id": "295c66f5",
   "metadata": {},
   "outputs": [],
   "source": [
    "my_dog2 = Dog(\"Vugu\",2)"
   ]
  },
  {
   "cell_type": "code",
   "execution_count": 11,
   "id": "72c13b54",
   "metadata": {},
   "outputs": [
    {
     "name": "stdout",
     "output_type": "stream",
     "text": [
      "2382110726688\n"
     ]
    }
   ],
   "source": [
    "print(id(my_dog2))"
   ]
  },
  {
   "cell_type": "code",
   "execution_count": 12,
   "id": "ca1a9270",
   "metadata": {},
   "outputs": [
    {
     "name": "stdout",
     "output_type": "stream",
     "text": [
      "Vugu is barking and he is 2 years old.\n"
     ]
    }
   ],
   "source": [
    "Dog.bark(my_dog2)"
   ]
  },
  {
   "cell_type": "code",
   "execution_count": 13,
   "id": "340a33a3",
   "metadata": {},
   "outputs": [],
   "source": [
    "class Dog:\n",
    "    def __init__(self, name, age):\n",
    "        self.name = name\n",
    "        self.age = age\n",
    "    \n",
    "    def bark(test):\n",
    "        print(f\"{test.name} is barking and he is {test.age} years old.\")"
   ]
  },
  {
   "cell_type": "code",
   "execution_count": 14,
   "id": "3d39a4de",
   "metadata": {},
   "outputs": [
    {
     "name": "stdout",
     "output_type": "stream",
     "text": [
      "Vugu is barking and he is 2 years old.\n"
     ]
    }
   ],
   "source": [
    "Dog.bark(my_dog2)"
   ]
  },
  {
   "cell_type": "markdown",
   "id": "5e750e8c",
   "metadata": {},
   "source": [
    "## an object can be used to invoke the function inside a class"
   ]
  },
  {
   "cell_type": "code",
   "execution_count": 15,
   "id": "76d42e29",
   "metadata": {},
   "outputs": [
    {
     "name": "stdout",
     "output_type": "stream",
     "text": [
      "Tommy is barking\n"
     ]
    }
   ],
   "source": [
    "my_dog.bark()"
   ]
  },
  {
   "cell_type": "code",
   "execution_count": 16,
   "id": "24d57f42",
   "metadata": {},
   "outputs": [
    {
     "name": "stdout",
     "output_type": "stream",
     "text": [
      "Vugu is barking and he is 2 years old.\n"
     ]
    }
   ],
   "source": [
    "my_dog2.bark()"
   ]
  },
  {
   "cell_type": "markdown",
   "id": "d8fcf6da",
   "metadata": {},
   "source": [
    "## Other example of a class"
   ]
  },
  {
   "cell_type": "code",
   "execution_count": 25,
   "id": "df38f1f7",
   "metadata": {},
   "outputs": [],
   "source": [
    "class student:\n",
    "    def __init__(self,name,age,faculty):\n",
    "        self.name = name\n",
    "        self.age = age\n",
    "        self.faculty = faculty\n",
    "    def print_details(self):\n",
    "        print(f\"{self.name} is {self.age} years old and he studies {self.faculty}\")"
   ]
  },
  {
   "cell_type": "code",
   "execution_count": 28,
   "id": "fb69bc02",
   "metadata": {},
   "outputs": [],
   "source": [
    "stu1 = student('navin',23,'data science')"
   ]
  },
  {
   "cell_type": "code",
   "execution_count": 20,
   "id": "00adbbe2",
   "metadata": {},
   "outputs": [
    {
     "data": {
      "text/plain": [
       "__main__.student"
      ]
     },
     "execution_count": 20,
     "metadata": {},
     "output_type": "execute_result"
    }
   ],
   "source": [
    "type(stu1)"
   ]
  },
  {
   "cell_type": "code",
   "execution_count": 29,
   "id": "18e3ab7b",
   "metadata": {},
   "outputs": [
    {
     "name": "stdout",
     "output_type": "stream",
     "text": [
      "navin is 23 years old and he studies data science\n"
     ]
    }
   ],
   "source": [
    "stu1.print_details()"
   ]
  },
  {
   "cell_type": "code",
   "execution_count": 31,
   "id": "e6c5d41f",
   "metadata": {},
   "outputs": [],
   "source": [
    "class swap:\n",
    "    def __init__(self,a,b):\n",
    "        self.a = a\n",
    "        self.b = b\n",
    "    def swap(self):\n",
    "        temp = self.a\n",
    "        self.a = self.b\n",
    "        self.b = temp\n",
    "    def print_numbers(self):\n",
    "        print(f'Your numbers are a: {self.a} and b: {self.b}.')"
   ]
  },
  {
   "cell_type": "code",
   "execution_count": 32,
   "id": "201ecf68",
   "metadata": {},
   "outputs": [],
   "source": [
    "nums = swap(2,4)"
   ]
  },
  {
   "cell_type": "code",
   "execution_count": 33,
   "id": "c2e48b5a",
   "metadata": {},
   "outputs": [
    {
     "data": {
      "text/plain": [
       "__main__.swap"
      ]
     },
     "execution_count": 33,
     "metadata": {},
     "output_type": "execute_result"
    }
   ],
   "source": [
    "type(nums)"
   ]
  },
  {
   "cell_type": "code",
   "execution_count": 34,
   "id": "27c382d5",
   "metadata": {},
   "outputs": [
    {
     "name": "stdout",
     "output_type": "stream",
     "text": [
      "Your numbers are a: 2 and b: 4.\n"
     ]
    }
   ],
   "source": [
    "nums.print_numbers()"
   ]
  },
  {
   "cell_type": "code",
   "execution_count": 35,
   "id": "3b5fa2a3",
   "metadata": {},
   "outputs": [],
   "source": [
    "nums.swap()"
   ]
  },
  {
   "cell_type": "code",
   "execution_count": 36,
   "id": "09f90c1c",
   "metadata": {},
   "outputs": [
    {
     "name": "stdout",
     "output_type": "stream",
     "text": [
      "Your numbers are a: 4 and b: 2.\n"
     ]
    }
   ],
   "source": [
    "nums.print_numbers()"
   ]
  },
  {
   "cell_type": "code",
   "execution_count": 37,
   "id": "8cd3e3d6",
   "metadata": {},
   "outputs": [
    {
     "ename": "TypeError",
     "evalue": "swap.print_numbers() takes 1 positional argument but 3 were given",
     "output_type": "error",
     "traceback": [
      "\u001b[1;31m---------------------------------------------------------------------------\u001b[0m",
      "\u001b[1;31mTypeError\u001b[0m                                 Traceback (most recent call last)",
      "Cell \u001b[1;32mIn[37], line 1\u001b[0m\n\u001b[1;32m----> 1\u001b[0m \u001b[43mnums\u001b[49m\u001b[38;5;241;43m.\u001b[39;49m\u001b[43mprint_numbers\u001b[49m\u001b[43m(\u001b[49m\u001b[38;5;241;43m1\u001b[39;49m\u001b[43m,\u001b[49m\u001b[38;5;241;43m2\u001b[39;49m\u001b[43m)\u001b[49m\n",
      "\u001b[1;31mTypeError\u001b[0m: swap.print_numbers() takes 1 positional argument but 3 were given"
     ]
    }
   ],
   "source": [
    "nums.print_numbers(1,2)"
   ]
  },
  {
   "cell_type": "code",
   "execution_count": 38,
   "id": "83a58a2c",
   "metadata": {},
   "outputs": [
    {
     "ename": "TypeError",
     "evalue": "swap.print_numbers() takes 1 positional argument but 2 were given",
     "output_type": "error",
     "traceback": [
      "\u001b[1;31m---------------------------------------------------------------------------\u001b[0m",
      "\u001b[1;31mTypeError\u001b[0m                                 Traceback (most recent call last)",
      "Cell \u001b[1;32mIn[38], line 1\u001b[0m\n\u001b[1;32m----> 1\u001b[0m \u001b[43mnums\u001b[49m\u001b[38;5;241;43m.\u001b[39;49m\u001b[43mprint_numbers\u001b[49m\u001b[43m(\u001b[49m\u001b[38;5;241;43m1\u001b[39;49m\u001b[43m)\u001b[49m\n",
      "\u001b[1;31mTypeError\u001b[0m: swap.print_numbers() takes 1 positional argument but 2 were given"
     ]
    }
   ],
   "source": [
    "nums.print_numbers(1)"
   ]
  },
  {
   "cell_type": "code",
   "execution_count": 39,
   "id": "ce615cda",
   "metadata": {},
   "outputs": [],
   "source": [
    "class swap:\n",
    "    def __init__(self,a,b):\n",
    "        self.a = a\n",
    "        self.b = b\n",
    "        self.swap()\n",
    "        \n",
    "    def swap(self):\n",
    "        temp = self.a\n",
    "        self.a = self.b\n",
    "        self.b = temp\n",
    "        \n",
    "    def print_numbers(self):\n",
    "        print(f'Your numbers are a: {self.a} and b: {self.b}.')"
   ]
  },
  {
   "cell_type": "code",
   "execution_count": 40,
   "id": "e19cb54a",
   "metadata": {},
   "outputs": [],
   "source": [
    "nums = swap(2,3)"
   ]
  },
  {
   "cell_type": "code",
   "execution_count": 41,
   "id": "2f44ca10",
   "metadata": {},
   "outputs": [
    {
     "name": "stdout",
     "output_type": "stream",
     "text": [
      "Your numbers are a: 3 and b: 2.\n"
     ]
    }
   ],
   "source": [
    "nums.print_numbers()"
   ]
  },
  {
   "cell_type": "code",
   "execution_count": 42,
   "id": "cbd8bd15",
   "metadata": {},
   "outputs": [],
   "source": [
    "nums = swap('nabin','aastha')"
   ]
  },
  {
   "cell_type": "code",
   "execution_count": 43,
   "id": "20b921b1",
   "metadata": {},
   "outputs": [
    {
     "name": "stdout",
     "output_type": "stream",
     "text": [
      "Your numbers are a: aastha and b: nabin.\n"
     ]
    }
   ],
   "source": [
    "nums.print_numbers()"
   ]
  },
  {
   "cell_type": "markdown",
   "id": "533f09d7",
   "metadata": {},
   "source": [
    "## Class method, static method"
   ]
  },
  {
   "cell_type": "code",
   "execution_count": 58,
   "id": "3cfc9ec1",
   "metadata": {},
   "outputs": [],
   "source": [
    "class Person:\n",
    "    count = 0\n",
    "    def __init__(self,name): #this function is invoked immediately while creating an object\n",
    "        self.name = name\n",
    "        Person.count += 1  #this is referenced so as to avoid initialization of count before referencing\n",
    "    \n",
    "    @classmethod\n",
    "    def get_count(cls):  #defining class method\n",
    "        print(cls.count)\n",
    "        \n",
    "    @staticmethod\n",
    "    def get_fullname(firstname, secondname):\n",
    "        return f'{firstname}{secondname}'"
   ]
  },
  {
   "cell_type": "code",
   "execution_count": 60,
   "id": "37f38681",
   "metadata": {},
   "outputs": [],
   "source": [
    "person1 = Person('Nabin Bhandari')"
   ]
  },
  {
   "cell_type": "code",
   "execution_count": 65,
   "id": "e0de7456",
   "metadata": {},
   "outputs": [
    {
     "name": "stdout",
     "output_type": "stream",
     "text": [
      "2\n"
     ]
    }
   ],
   "source": [
    "person1.get_count()"
   ]
  },
  {
   "cell_type": "code",
   "execution_count": 54,
   "id": "70cd2da8",
   "metadata": {},
   "outputs": [
    {
     "data": {
      "text/plain": [
       "'NavinBhandari'"
      ]
     },
     "execution_count": 54,
     "metadata": {},
     "output_type": "execute_result"
    }
   ],
   "source": [
    "person1.get_fullname(\"Navin\",\"Bhandari\")"
   ]
  },
  {
   "cell_type": "code",
   "execution_count": 62,
   "id": "85a84bef",
   "metadata": {},
   "outputs": [],
   "source": [
    "person2 = Person('Aastha Thapa')"
   ]
  },
  {
   "cell_type": "code",
   "execution_count": 64,
   "id": "c57a9e5d",
   "metadata": {},
   "outputs": [
    {
     "name": "stdout",
     "output_type": "stream",
     "text": [
      "2\n"
     ]
    }
   ],
   "source": [
    "person2.get_count()"
   ]
  },
  {
   "cell_type": "code",
   "execution_count": 63,
   "id": "4eb9febd",
   "metadata": {},
   "outputs": [
    {
     "name": "stdout",
     "output_type": "stream",
     "text": [
      "2\n"
     ]
    }
   ],
   "source": [
    "Person.get_count()"
   ]
  },
  {
   "cell_type": "code",
   "execution_count": 67,
   "id": "00ac8c50",
   "metadata": {},
   "outputs": [
    {
     "data": {
      "text/plain": [
       "'AsmitaThapa'"
      ]
     },
     "execution_count": 67,
     "metadata": {},
     "output_type": "execute_result"
    }
   ],
   "source": [
    "Person.get_fullname('Asmita','Thapa')"
   ]
  },
  {
   "cell_type": "code",
   "execution_count": 70,
   "id": "72093649",
   "metadata": {},
   "outputs": [],
   "source": [
    "class Person:\n",
    "    count = 0\n",
    "    def __init__(self,name): #this function is invoked immediately while creating an object\n",
    "        self.name = name\n",
    "        Person.count += 1  #this is referenced so as to avoid initialization of count before referencing\n",
    "    \n",
    "    @classmethod\n",
    "    def get_count():  #defining class method\n",
    "        return count\n",
    "        \n",
    "    @staticmethod\n",
    "    def get_fullname(firstname, secondname):\n",
    "        return f'{firstname}{secondname}'"
   ]
  },
  {
   "cell_type": "code",
   "execution_count": 73,
   "id": "b0c4b482",
   "metadata": {},
   "outputs": [
    {
     "name": "stdout",
     "output_type": "stream",
     "text": [
      "<bound method Person.get_count of <class '__main__.Person'>>\n"
     ]
    }
   ],
   "source": [
    "print(Person.get_count)"
   ]
  },
  {
   "cell_type": "code",
   "execution_count": 74,
   "id": "780dbd64",
   "metadata": {},
   "outputs": [
    {
     "data": {
      "text/plain": [
       "__main__.Person"
      ]
     },
     "execution_count": 74,
     "metadata": {},
     "output_type": "execute_result"
    }
   ],
   "source": [
    "type(person1)"
   ]
  },
  {
   "cell_type": "code",
   "execution_count": 75,
   "id": "298c9048",
   "metadata": {},
   "outputs": [
    {
     "name": "stdout",
     "output_type": "stream",
     "text": [
      "2\n"
     ]
    }
   ],
   "source": [
    "person1.get_count()"
   ]
  },
  {
   "cell_type": "code",
   "execution_count": 87,
   "id": "5efa5049",
   "metadata": {},
   "outputs": [],
   "source": [
    "class People:\n",
    "    count = 0\n",
    "    def __init__(self,name): #this function is invoked immediately while creating an object\n",
    "        self.name = name\n",
    "        People.count += 1  #this is referenced so as to avoid initialization of count before referencing\n",
    "    \n",
    "    @classmethod\n",
    "    def get_count(cls):  #defining class method\n",
    "        return cls.count\n",
    "        \n",
    "    @staticmethod\n",
    "    def get_fullname(firstname, secondname):\n",
    "        return f'{firstname}{secondname}'"
   ]
  },
  {
   "cell_type": "code",
   "execution_count": 90,
   "id": "2469249c",
   "metadata": {},
   "outputs": [],
   "source": [
    "person1 = People('navi')"
   ]
  },
  {
   "cell_type": "code",
   "execution_count": 91,
   "id": "8f456edd",
   "metadata": {},
   "outputs": [
    {
     "data": {
      "text/plain": [
       "1"
      ]
     },
     "execution_count": 91,
     "metadata": {},
     "output_type": "execute_result"
    }
   ],
   "source": [
    "person1.get_count()"
   ]
  },
  {
   "cell_type": "code",
   "execution_count": 92,
   "id": "8c89557b",
   "metadata": {},
   "outputs": [
    {
     "data": {
      "text/plain": [
       "1"
      ]
     },
     "execution_count": 92,
     "metadata": {},
     "output_type": "execute_result"
    }
   ],
   "source": [
    "People.get_count()"
   ]
  },
  {
   "cell_type": "code",
   "execution_count": null,
   "id": "dbc56b4d",
   "metadata": {},
   "outputs": [],
   "source": []
  }
 ],
 "metadata": {
  "kernelspec": {
   "display_name": "Python 3 (ipykernel)",
   "language": "python",
   "name": "python3"
  },
  "language_info": {
   "codemirror_mode": {
    "name": "ipython",
    "version": 3
   },
   "file_extension": ".py",
   "mimetype": "text/x-python",
   "name": "python",
   "nbconvert_exporter": "python",
   "pygments_lexer": "ipython3",
   "version": "3.10.0"
  }
 },
 "nbformat": 4,
 "nbformat_minor": 5
}
