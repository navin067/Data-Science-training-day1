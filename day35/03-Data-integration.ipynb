{
 "cells": [
  {
   "cell_type": "code",
   "execution_count": 1,
   "id": "65e7a7ca",
   "metadata": {},
   "outputs": [],
   "source": [
    "import pandas as pd"
   ]
  },
  {
   "cell_type": "code",
   "execution_count": 2,
   "id": "477884f3",
   "metadata": {},
   "outputs": [
    {
     "name": "stdout",
     "output_type": "stream",
     "text": [
      "Concatenation by Row:\n",
      "    A  B\n",
      "0  1  4\n",
      "1  2  5\n",
      "2  3  6\n",
      "0  4  7\n",
      "1  5  8\n",
      "2  6  9\n",
      "Concatenation by Col:\n",
      "    A  B  A  B\n",
      "0  1  4  4  7\n",
      "1  2  5  5  8\n",
      "2  3  6  6  9\n"
     ]
    }
   ],
   "source": [
    "# create two sample dataframes\n",
    "df1 = pd.DataFrame({'A': [1,2,3], 'B' : [4,5,6]})\n",
    "df2 = pd.DataFrame({'A': [4,5,6], 'B' : [7,8,9]})\n",
    "\n",
    "# concatenate dataframes along rows (axis=0)\n",
    "row_concatenated = pd.concat([df1,df2], axis=0)\n",
    "\n",
    "# concatenate dataframes along cols (axis=1)\n",
    "col_concatenated = pd.concat([df1,df2], axis=1)\n",
    "\n",
    "# pritn the concatenate dataframes\n",
    "print(\"Concatenation by Row:\\n\", row_concatenated)\n",
    "print(\"Concatenation by Col:\\n\", col_concatenated)"
   ]
  },
  {
   "cell_type": "code",
   "execution_count": 4,
   "id": "fbc42467",
   "metadata": {},
   "outputs": [
    {
     "name": "stdout",
     "output_type": "stream",
     "text": [
      "Concatenation by Row:\n",
      "      A    B    C    D\n",
      "0  1.0  4.0  NaN  NaN\n",
      "1  2.0  5.0  NaN  NaN\n",
      "2  3.0  6.0  NaN  NaN\n",
      "0  4.0  7.0  NaN  NaN\n",
      "1  5.0  8.0  NaN  NaN\n",
      "2  6.0  9.0  NaN  NaN\n",
      "0  NaN  NaN  1.0  0.0\n",
      "1  NaN  NaN  1.0  0.0\n",
      "2  NaN  NaN  1.0  0.0\n",
      "Concatenation by Col:\n",
      "    A  B  A  B  C  D\n",
      "0  1  4  4  7  1  0\n",
      "1  2  5  5  8  1  0\n",
      "2  3  6  6  9  1  0\n"
     ]
    }
   ],
   "source": [
    "# create two sample dataframes\n",
    "df1 = pd.DataFrame({'A': [1,2,3], 'B' : [4,5,6]})\n",
    "df2 = pd.DataFrame({'A': [4,5,6], 'B' : [7,8,9]})\n",
    "df3 = pd.DataFrame({'C': [1,1,1], 'D' : [0,0,0]})\n",
    "\n",
    "# concatenate dataframes along rows (axis=0)\n",
    "row_concatenated = pd.concat([df1,df2,df3], axis=0)\n",
    "\n",
    "# concatenate dataframes along cols (axis=1)\n",
    "col_concatenated = pd.concat([df1,df2,df3], axis=1)\n",
    "\n",
    "# pritn the concatenate dataframes\n",
    "print(\"Concatenation by Row:\\n\", row_concatenated)\n",
    "print(\"Concatenation by Col:\\n\", col_concatenated)"
   ]
  },
  {
   "cell_type": "code",
   "execution_count": 5,
   "id": "83c0ba77",
   "metadata": {},
   "outputs": [
    {
     "name": "stdout",
     "output_type": "stream",
     "text": [
      "Concatenation by Row:\n",
      "      A    B    C    D\n",
      "0  1.0  4.0  NaN  NaN\n",
      "1  2.0  5.0  NaN  NaN\n",
      "2  3.0  6.0  NaN  NaN\n",
      "0  4.0  7.0  NaN  NaN\n",
      "1  5.0  8.0  NaN  NaN\n",
      "2  6.0  9.0  NaN  NaN\n",
      "0  NaN  NaN  1.0  0.0\n",
      "1  NaN  NaN  1.0  0.0\n",
      "Concatenation by Col:\n",
      "    A  B  A  B    C    D\n",
      "0  1  4  4  7  1.0  0.0\n",
      "1  2  5  5  8  1.0  0.0\n",
      "2  3  6  6  9  NaN  NaN\n"
     ]
    }
   ],
   "source": [
    "# create two sample dataframes\n",
    "df1 = pd.DataFrame({'A': [1,2,3], 'B' : [4,5,6]})\n",
    "df2 = pd.DataFrame({'A': [4,5,6], 'B' : [7,8,9]})\n",
    "df3 = pd.DataFrame({'C': [1,1], 'D' : [0,0]})\n",
    "\n",
    "# concatenate dataframes along rows (axis=0)\n",
    "row_concatenated = pd.concat([df1,df2,df3], axis=0)\n",
    "\n",
    "# concatenate dataframes along cols (axis=1)\n",
    "col_concatenated = pd.concat([df1,df2,df3], axis=1)\n",
    "\n",
    "# pritn the concatenate dataframes\n",
    "print(\"Concatenation by Row:\\n\", row_concatenated)\n",
    "print(\"Concatenation by Col:\\n\", col_concatenated)"
   ]
  },
  {
   "cell_type": "code",
   "execution_count": null,
   "id": "f4a285af",
   "metadata": {},
   "outputs": [],
   "source": []
  }
 ],
 "metadata": {
  "kernelspec": {
   "display_name": "Python 3 (ipykernel)",
   "language": "python",
   "name": "python3"
  },
  "language_info": {
   "codemirror_mode": {
    "name": "ipython",
    "version": 3
   },
   "file_extension": ".py",
   "mimetype": "text/x-python",
   "name": "python",
   "nbconvert_exporter": "python",
   "pygments_lexer": "ipython3",
   "version": "3.10.0"
  }
 },
 "nbformat": 4,
 "nbformat_minor": 5
}
