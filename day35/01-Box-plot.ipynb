{
 "cells": [
  {
   "cell_type": "code",
   "execution_count": 1,
   "id": "8628f69d",
   "metadata": {},
   "outputs": [],
   "source": [
    "import matplotlib.pyplot as plt\n",
    "import numpy as np"
   ]
  },
  {
   "cell_type": "code",
   "execution_count": 2,
   "id": "868e8fb2",
   "metadata": {},
   "outputs": [
    {
     "name": "stdout",
     "output_type": "stream",
     "text": [
      "[array([-1.10956847,  0.33846805,  0.76436701, -0.26858299, -1.26382568,\n",
      "        0.32342491, -0.80598537,  0.32638472, -0.85162486,  0.27646051,\n",
      "        0.21692442,  0.91965018,  0.53246999, -0.39723389,  0.18807455,\n",
      "       -1.30904927,  2.00528396, -1.43582394,  0.63281382,  0.86458176,\n",
      "       -0.10796319, -0.53994766, -0.02928085, -1.40133748, -0.77734987,\n",
      "       -0.73936086, -0.38339001,  0.7693878 ,  0.70874181,  0.254656  ,\n",
      "       -0.25110331,  0.82789228, -0.66413881, -1.93985359,  1.31678076,\n",
      "        1.8049155 , -0.56206405, -0.39025221,  1.47222429,  0.68255844,\n",
      "       -0.55847788,  0.30182076, -1.34680746,  0.25051946, -1.56598127,\n",
      "        1.88321704, -0.50239989, -0.4159106 ,  0.49354565, -1.06414003,\n",
      "       -0.48652571,  0.14637798, -1.0493706 , -0.08685353,  0.50685858,\n",
      "       -0.0902986 , -0.25673219,  0.15076718,  0.5040044 ,  1.17974935,\n",
      "        0.74260337, -0.63839858,  0.73101009,  0.12289686,  0.54266017,\n",
      "       -0.74670567,  0.42524801, -1.27360774, -1.89962648, -1.32595014,\n",
      "       -0.73404747,  1.46915242,  0.47019376, -1.08282103,  0.50031598,\n",
      "        0.36581066,  1.9776107 , -0.45156307,  0.75737961, -0.45458009,\n",
      "       -0.03544759,  0.46972691, -0.9498261 , -0.41541679, -1.85264549,\n",
      "       -0.18234504,  0.77612569, -1.0819979 , -2.15998622,  2.83982352,\n",
      "       -0.13269302,  0.61997503, -1.09430986,  3.03613357,  0.19670096,\n",
      "        0.87698165, -1.29185188, -0.46339271,  2.18236685,  1.44308679]), array([-0.95821902, -2.05630204,  1.3241778 ,  2.83291633, -1.62064345,\n",
      "        3.04909724, -2.58986837,  2.60671956, -3.47754779, -3.27504352,\n",
      "       -3.39712543, -1.04584592,  1.88972694, -1.49535996, -1.23944833,\n",
      "        0.5670324 , -3.35685192, -0.12414124, -1.44938311, -2.63572535,\n",
      "       -1.85189873, -0.13422493,  3.07361353,  0.30509581,  2.18887413,\n",
      "        2.12351469,  0.48789886, -1.67092352,  1.10404881, -0.27577997,\n",
      "        1.69877058, -2.29101307,  2.49684569,  2.42308121, -0.34205511,\n",
      "        0.34065753, -0.84210935,  0.88628036,  1.30573832, -1.18860835,\n",
      "        2.18104376,  0.61249075,  2.09546142, -3.06019279,  0.99175084,\n",
      "       -2.12175189,  1.91621807,  0.78411658, -2.77003358,  1.27750168,\n",
      "        1.45370964,  1.13762507, -1.61505219,  3.22180657,  0.59845492,\n",
      "       -1.10617529,  0.59294341, -3.98016729,  1.07376537, -2.09648394,\n",
      "        2.08454256,  0.17570354, -2.27498822,  0.74382204, -1.41795951,\n",
      "        1.11452316,  0.40355282, -1.06145411,  1.0440578 ,  2.88295283,\n",
      "        3.36439969,  1.91099657, -2.83998521,  1.95819051,  0.69224442,\n",
      "        0.16102426,  3.10724757,  4.60681201,  1.66276613, -1.98901482,\n",
      "        1.38558312,  0.7584323 , -4.04399678, -2.83768304, -3.36860798,\n",
      "        3.26292567,  1.53184927, -2.44075925,  2.03500074,  1.32425125,\n",
      "       -0.87083322,  3.38611371, -0.54760355,  3.15155585, -4.56442207,\n",
      "       -0.24853013, -4.32176144,  3.41979351, -0.01705862, -4.42492203]), array([ 0.84430247,  1.68465392, -2.70110683,  0.26526398, -3.1907195 ,\n",
      "        3.14572491,  2.43523413, -0.02098553,  5.43377758,  1.81380968,\n",
      "       -3.28910139,  0.44320746, -0.5105896 ,  1.22340134, -1.59523652,\n",
      "        7.18824857,  1.95551912, -0.82531891,  0.81141507,  0.20969489,\n",
      "       -0.08457971,  3.09252751,  2.34950054,  3.33196749,  0.8933563 ,\n",
      "       -0.21346261, -4.39409203, -2.01498606, -6.18801123,  4.54951094,\n",
      "       -4.85424615, -3.2482985 , -1.39300982, -0.42610215, -3.92185493,\n",
      "       -2.00579151,  1.95204468,  2.73456386, -3.28711903, -0.99643097,\n",
      "       -6.43838047,  1.09293036, -1.48854784,  2.19533707, -3.60797724,\n",
      "       -1.65056433,  5.073802  ,  0.88240653,  1.26057293, -1.7951233 ,\n",
      "       -0.6093445 ,  3.27107302, -2.87616113, -1.79766564,  4.24627635,\n",
      "        6.07556983,  4.63784873,  3.8081382 ,  1.53719031,  0.18876084,\n",
      "        0.90811657, -2.78247799, -1.28331672, -3.14708479,  2.3127556 ,\n",
      "       -2.07701302,  0.87734072, -0.54607231,  8.22717031,  1.73482055,\n",
      "       -1.2774535 ,  3.44986462, -0.220199  , -0.25771284,  2.89681025,\n",
      "       -0.40711209,  3.29397923, -0.45065983, -4.06750325,  5.82429956,\n",
      "        1.25455037, -0.02022325, -0.5291016 ,  7.5163603 , -3.26813719,\n",
      "       -2.69776597,  4.66366706, -1.35526245, -0.89506443,  3.22772698,\n",
      "        9.17352983, -5.06414574, -1.97267821,  4.41595198,  6.06429978,\n",
      "       -3.43480195,  0.99297852,  0.66202916,  0.15712832, -0.65228303])]\n"
     ]
    }
   ],
   "source": [
    "# Define the data for the box plot\n",
    "data = [np.random.normal(0, std, 100) for std in range(1,4)]\n",
    "print(data)"
   ]
  },
  {
   "cell_type": "code",
   "execution_count": 3,
   "id": "98934337",
   "metadata": {},
   "outputs": [
    {
     "data": {
      "text/plain": [
       "3"
      ]
     },
     "execution_count": 3,
     "metadata": {},
     "output_type": "execute_result"
    }
   ],
   "source": [
    "len(data)"
   ]
  },
  {
   "cell_type": "code",
   "execution_count": 4,
   "id": "bc47f5f2",
   "metadata": {},
   "outputs": [
    {
     "name": "stdout",
     "output_type": "stream",
     "text": [
      "4.606812009256652\n",
      "-4.56442207078061\n",
      "0.03471763783346188\n"
     ]
    }
   ],
   "source": [
    "print(data[1].max())\n",
    "print(data[1].min())\n",
    "print(data[1].mean())"
   ]
  },
  {
   "cell_type": "code",
   "execution_count": 6,
   "id": "ac72e5c9",
   "metadata": {},
   "outputs": [
    {
     "name": "stdout",
     "output_type": "stream",
     "text": [
      "3.036133567680262\n",
      "-2.159986218608694\n",
      "0.0027027678727031225\n"
     ]
    }
   ],
   "source": [
    "print(data[0].max())\n",
    "print(data[0].min())\n",
    "print(data[0].mean())"
   ]
  },
  {
   "cell_type": "code",
   "execution_count": 5,
   "id": "fcc22aac",
   "metadata": {},
   "outputs": [
    {
     "name": "stdout",
     "output_type": "stream",
     "text": [
      "9.173529829714038\n",
      "-6.438380469645912\n",
      "0.4645013374282905\n"
     ]
    }
   ],
   "source": [
    "print(data[2].max())\n",
    "print(data[2].min())\n",
    "print(data[2].mean())"
   ]
  },
  {
   "cell_type": "code",
   "execution_count": 7,
   "id": "226e1caa",
   "metadata": {},
   "outputs": [
    {
     "data": {
      "image/png": "[encoded data removed]",
      "text/plain": [
       "<Figure size 432x288 with 1 Axes>"
      ]
     },
     "metadata": {
      "needs_background": "light"
     },
     "output_type": "display_data"
    }
   ],
   "source": [
    "fig, ax = plt.subplots()\n",
    "\n",
    "# Generate the box plot\n",
    "ax.boxplot(data)\n",
    "\n",
    "# Customize the chart\n",
    "ax.set_title('Box Plot', fontsize=16, fontweight='bold')\n",
    "ax.set_xticklabels(['Data 1', 'Data 2', 'Data 3'])\n",
    "ax.set_xlabel('Data')\n",
    "ax.set_ylabel('Value')\n",
    "\n",
    "plt.show()"
   ]
  },
  {
   "cell_type": "markdown",
   "id": "ea1ad8ce",
   "metadata": {},
   "source": [
    "## Here, the box in the plot represents interquartile range and yellow line is the median."
   ]
  },
  {
   "cell_type": "code",
   "execution_count": null,
   "id": "741e3eb1",
   "metadata": {},
   "outputs": [],
   "source": []
  }
 ],
 "metadata": {
  "kernelspec": {
   "display_name": "Python 3 (ipykernel)",
   "language": "python",
   "name": "python3"
  },
  "language_info": {
   "codemirror_mode": {
    "name": "ipython",
    "version": 3
   },
   "file_extension": ".py",
   "mimetype": "text/x-python",
   "name": "python",
   "nbconvert_exporter": "python",
   "pygments_lexer": "ipython3",
   "version": "3.10.0"
  }
 },
 "nbformat": 4,
 "nbformat_minor": 5
}
