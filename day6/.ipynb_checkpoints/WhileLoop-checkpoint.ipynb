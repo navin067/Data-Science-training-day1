{
 "cells": [
  {
   "cell_type": "markdown",
   "id": "947a2dd9",
   "metadata": {},
   "source": [
    "# While Loop"
   ]
  },
  {
   "cell_type": "code",
   "execution_count": 2,
   "id": "568d40c2",
   "metadata": {},
   "outputs": [
    {
     "name": "stdout",
     "output_type": "stream",
     "text": [
      "0\n",
      "1\n",
      "2\n",
      "3\n",
      "4\n"
     ]
    }
   ],
   "source": [
    "i = 0\n",
    "condition = True\n",
    "while condition:\n",
    "    print(i)\n",
    "    i += 1\n",
    "    if i == 5:\n",
    "        condition = False"
   ]
  },
  {
   "cell_type": "markdown",
   "id": "08b6b08b",
   "metadata": {},
   "source": [
    "# Functions"
   ]
  },
  {
   "cell_type": "code",
   "execution_count": 3,
   "id": "8d645292",
   "metadata": {},
   "outputs": [
    {
     "data": {
      "text/plain": [
       "4"
      ]
     },
     "execution_count": 3,
     "metadata": {},
     "output_type": "execute_result"
    }
   ],
   "source": [
    "def double(x):\n",
    "    y = x * 2\n",
    "    return y\n",
    "\n",
    "double(2)"
   ]
  },
  {
   "cell_type": "code",
   "execution_count": 4,
   "id": "96e5b16d",
   "metadata": {},
   "outputs": [],
   "source": [
    "def power(x=1,y=2):\n",
    "    z = x ** y\n",
    "    return x,y,z"
   ]
  },
  {
   "cell_type": "code",
   "execution_count": 5,
   "id": "b4f7fba0",
   "metadata": {},
   "outputs": [],
   "source": [
    "c = power()"
   ]
  },
  {
   "cell_type": "code",
   "execution_count": 6,
   "id": "698d6022",
   "metadata": {},
   "outputs": [
    {
     "data": {
      "text/plain": [
       "(1, 2, 1)"
      ]
     },
     "execution_count": 6,
     "metadata": {},
     "output_type": "execute_result"
    }
   ],
   "source": [
    "c"
   ]
  },
  {
   "cell_type": "code",
   "execution_count": 7,
   "id": "d3ba194e",
   "metadata": {},
   "outputs": [],
   "source": [
    "c = power(2,2)"
   ]
  },
  {
   "cell_type": "code",
   "execution_count": 8,
   "id": "993ef2d6",
   "metadata": {},
   "outputs": [
    {
     "data": {
      "text/plain": [
       "(2, 2, 4)"
      ]
     },
     "execution_count": 8,
     "metadata": {},
     "output_type": "execute_result"
    }
   ],
   "source": [
    "c"
   ]
  },
  {
   "cell_type": "code",
   "execution_count": 9,
   "id": "23cef044",
   "metadata": {},
   "outputs": [],
   "source": [
    "val, pwr, resu = power(3,2)"
   ]
  },
  {
   "cell_type": "code",
   "execution_count": 10,
   "id": "3e7c5e8c",
   "metadata": {},
   "outputs": [
    {
     "data": {
      "text/plain": [
       "3"
      ]
     },
     "execution_count": 10,
     "metadata": {},
     "output_type": "execute_result"
    }
   ],
   "source": [
    "val"
   ]
  },
  {
   "cell_type": "code",
   "execution_count": 11,
   "id": "5b1c8e22",
   "metadata": {},
   "outputs": [
    {
     "data": {
      "text/plain": [
       "9"
      ]
     },
     "execution_count": 11,
     "metadata": {},
     "output_type": "execute_result"
    }
   ],
   "source": [
    "resu"
   ]
  },
  {
   "cell_type": "code",
   "execution_count": 12,
   "id": "238448ee",
   "metadata": {},
   "outputs": [],
   "source": [
    "def power(x=1,y=2):\n",
    "    z = x ** y\n",
    "    return {x:x,y:y,z:z}"
   ]
  },
  {
   "cell_type": "code",
   "execution_count": 13,
   "id": "7504fa23",
   "metadata": {},
   "outputs": [],
   "source": [
    "result = power(3,2)"
   ]
  },
  {
   "cell_type": "code",
   "execution_count": 14,
   "id": "b1a50842",
   "metadata": {},
   "outputs": [
    {
     "data": {
      "text/plain": [
       "{3: 3, 2: 2, 9: 9}"
      ]
     },
     "execution_count": 14,
     "metadata": {},
     "output_type": "execute_result"
    }
   ],
   "source": [
    "result"
   ]
  },
  {
   "cell_type": "markdown",
   "id": "ed5117f3",
   "metadata": {},
   "source": [
    "# args and kwargs"
   ]
  },
  {
   "cell_type": "code",
   "execution_count": 18,
   "id": "e1f209ac",
   "metadata": {},
   "outputs": [],
   "source": [
    "def func(*args, **kwargs):\n",
    "    for item in args:\n",
    "        print(item)\n",
    "    for key,value in kwargs.items():\n",
    "        print(key, value)"
   ]
  },
  {
   "cell_type": "code",
   "execution_count": 19,
   "id": "73467974",
   "metadata": {},
   "outputs": [
    {
     "name": "stdout",
     "output_type": "stream",
     "text": [
      "1\n",
      "navin\n",
      "name nabin\n",
      "address bhaktapur\n"
     ]
    }
   ],
   "source": [
    "func(1,'navin',name='nabin', address='bhaktapur')"
   ]
  },
  {
   "cell_type": "code",
   "execution_count": 52,
   "id": "097aade6",
   "metadata": {},
   "outputs": [],
   "source": [
    "def sum(*args, **kwargs):\n",
    "    s = 0\n",
    "    for item in args:\n",
    "        for i in item:\n",
    "            s += i\n",
    "    for key,value in kwargs.items():\n",
    "        s += value\n",
    "    print(s)"
   ]
  },
  {
   "cell_type": "code",
   "execution_count": 25,
   "id": "beb8dad2",
   "metadata": {},
   "outputs": [],
   "source": [
    "list1=[1,2,3]"
   ]
  },
  {
   "cell_type": "code",
   "execution_count": 40,
   "id": "fefd94ad",
   "metadata": {},
   "outputs": [
    {
     "name": "stdout",
     "output_type": "stream",
     "text": [
      "6\n"
     ]
    }
   ],
   "source": [
    "sum(list1)"
   ]
  },
  {
   "cell_type": "code",
   "execution_count": 41,
   "id": "e3887f7c",
   "metadata": {},
   "outputs": [],
   "source": [
    "list2=[1,2,3,4]"
   ]
  },
  {
   "cell_type": "code",
   "execution_count": 53,
   "id": "64f04a9c",
   "metadata": {},
   "outputs": [
    {
     "name": "stdout",
     "output_type": "stream",
     "text": [
      "10\n"
     ]
    }
   ],
   "source": [
    "sum(list2)"
   ]
  },
  {
   "cell_type": "code",
   "execution_count": 54,
   "id": "5f17b83c",
   "metadata": {},
   "outputs": [
    {
     "name": "stdout",
     "output_type": "stream",
     "text": [
      "3\n"
     ]
    }
   ],
   "source": [
    "sum(a=1,b=2)"
   ]
  },
  {
   "cell_type": "code",
   "execution_count": 55,
   "id": "f93c3f5f",
   "metadata": {},
   "outputs": [
    {
     "name": "stdout",
     "output_type": "stream",
     "text": [
      "6\n"
     ]
    }
   ],
   "source": [
    "sum(list1)"
   ]
  },
  {
   "cell_type": "code",
   "execution_count": 58,
   "id": "ddc64583",
   "metadata": {},
   "outputs": [],
   "source": [
    "def sum(*args, **kwargs):\n",
    "    s = 0\n",
    "    for item in args:\n",
    "        for i in item:\n",
    "            s += i\n",
    "    for key,value in kwargs.items():\n",
    "        s += value\n",
    "    print(s)\n",
    "    \n",
    "list1 = [1,2,3]\n",
    "list2 = [1,2,3,4,5]"
   ]
  },
  {
   "cell_type": "code",
   "execution_count": 59,
   "id": "90d2c66c",
   "metadata": {},
   "outputs": [
    {
     "name": "stdout",
     "output_type": "stream",
     "text": [
      "6\n"
     ]
    }
   ],
   "source": [
    "sum(list1)"
   ]
  },
  {
   "cell_type": "code",
   "execution_count": 60,
   "id": "5b4b14b9",
   "metadata": {},
   "outputs": [
    {
     "name": "stdout",
     "output_type": "stream",
     "text": [
      "15\n"
     ]
    }
   ],
   "source": [
    "sum(list2)"
   ]
  },
  {
   "cell_type": "code",
   "execution_count": 61,
   "id": "8d64011b",
   "metadata": {},
   "outputs": [
    {
     "name": "stdout",
     "output_type": "stream",
     "text": [
      "6\n"
     ]
    }
   ],
   "source": [
    "sum(a=1,b=2,c=3)"
   ]
  },
  {
   "cell_type": "code",
   "execution_count": null,
   "id": "6776b82d",
   "metadata": {},
   "outputs": [],
   "source": []
  }
 ],
 "metadata": {
  "kernelspec": {
   "display_name": "Python 3 (ipykernel)",
   "language": "python",
   "name": "python3"
  },
  "language_info": {
   "codemirror_mode": {
    "name": "ipython",
    "version": 3
   },
   "file_extension": ".py",
   "mimetype": "text/x-python",
   "name": "python",
   "nbconvert_exporter": "python",
   "pygments_lexer": "ipython3",
   "version": "3.10.0"
  }
 },
 "nbformat": 4,
 "nbformat_minor": 5
}
