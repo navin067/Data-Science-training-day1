{
 "cells": [
  {
   "cell_type": "code",
   "execution_count": 12,
   "id": "b2c6a81c",
   "metadata": {},
   "outputs": [],
   "source": [
    "import numpy as np\n",
    "import pandas as pd"
   ]
  },
  {
   "cell_type": "markdown",
   "id": "bc6f37f3",
   "metadata": {},
   "source": [
    "## Handling duplicates"
   ]
  },
  {
   "cell_type": "code",
   "execution_count": 8,
   "id": "ca665d91",
   "metadata": {},
   "outputs": [
    {
     "name": "stdout",
     "output_type": "stream",
     "text": [
      "Original dataframe:\n",
      "     A  B   C\n",
      "0  foo  1  10\n",
      "1  bar  2  20\n",
      "2  foo  3  30\n",
      "3  baz  4  40\n",
      "4  bar  5  50\n",
      "5  qux  6  60\n",
      "6  foo  7  70\n"
     ]
    }
   ],
   "source": [
    "# Create a sample dataset with duplicate values\n",
    "\n",
    "data = { 'A' : ['foo','bar','foo','baz','bar','qux','foo'],\n",
    "         'B' : [1,2,3,4,5,6,7],\n",
    "        'C' : [10,20,30,40,50,60,70]}\n",
    "df = pd.DataFrame(data)\n",
    "\n",
    "# Print the original dataframe\n",
    "print('Original dataframe:')\n",
    "print(df)"
   ]
  },
  {
   "cell_type": "code",
   "execution_count": 4,
   "id": "9819d111",
   "metadata": {},
   "outputs": [
    {
     "name": "stdout",
     "output_type": "stream",
     "text": [
      "\n",
      "Dataframe after dropping duplicates:\n",
      "     A  B   C\n",
      "0  foo  1  10\n",
      "1  bar  2  20\n",
      "3  baz  4  40\n",
      "5  qux  6  60\n"
     ]
    }
   ],
   "source": [
    "# Drop duplicates\n",
    "df.drop_duplicates(subset=['A'], inplace=True)\n",
    "print('\\nDataframe after dropping duplicates:')\n",
    "print(df)"
   ]
  },
  {
   "cell_type": "code",
   "execution_count": 5,
   "id": "3d6a8bc0",
   "metadata": {},
   "outputs": [
    {
     "name": "stdout",
     "output_type": "stream",
     "text": [
      "\n",
      "Dataframe after aggregating duplicates:\n",
      "       B     C\n",
      "A             \n",
      "bar  2.0  20.0\n",
      "baz  4.0  40.0\n",
      "foo  1.0  10.0\n",
      "qux  6.0  60.0\n"
     ]
    }
   ],
   "source": [
    "# Aggregate duplicates\n",
    "agg_df = df.groupby(['A']).mean()\n",
    "print('\\nDataframe after aggregating duplicates:')\n",
    "print(agg_df)"
   ]
  },
  {
   "cell_type": "code",
   "execution_count": 6,
   "id": "075dbc5b",
   "metadata": {},
   "outputs": [
    {
     "name": "stdout",
     "output_type": "stream",
     "text": [
      "\n",
      "Dataframe after keeping the first occurence:\n",
      "     A  B   C\n",
      "0  foo  1  10\n",
      "1  bar  2  20\n",
      "3  baz  4  40\n",
      "5  qux  6  60\n"
     ]
    }
   ],
   "source": [
    "# Keep the first occurence\n",
    "first_df = df.drop_duplicates(subset=['A'],keep='first')\n",
    "print('\\nDataframe after keeping the first occurence:')\n",
    "print(first_df)"
   ]
  },
  {
   "cell_type": "code",
   "execution_count": 9,
   "id": "85e63971",
   "metadata": {},
   "outputs": [
    {
     "name": "stdout",
     "output_type": "stream",
     "text": [
      "\n",
      "Datagrame after keeping the alst occurrence:\n",
      "     A  B   C\n",
      "3  baz  4  40\n",
      "4  bar  5  50\n",
      "5  qux  6  60\n",
      "6  foo  7  70\n"
     ]
    }
   ],
   "source": [
    "# keep the last occurence\n",
    "last_df = df.drop_duplicates(subset=['A'], keep='last')\n",
    "print('\\nDatagrame after keeping the alst occurrence:')\n",
    "print(last_df)"
   ]
  },
  {
   "cell_type": "code",
   "execution_count": 10,
   "id": "99c5c85c",
   "metadata": {},
   "outputs": [
    {
     "name": "stdout",
     "output_type": "stream",
     "text": [
      "\n",
      "Dataframe after marking duplicates:\n",
      "     A  B   C  duplicate\n",
      "0  foo  1  10      False\n",
      "1  bar  2  20      False\n",
      "2  foo  3  30       True\n",
      "3  baz  4  40      False\n",
      "4  bar  5  50       True\n",
      "5  qux  6  60      False\n",
      "6  foo  7  70       True\n"
     ]
    }
   ],
   "source": [
    "# Mark duplicates\n",
    "df['duplicate'] = df.duplicated(subset=['A'])\n",
    "print('\\nDataframe after marking duplicates:')\n",
    "print(df)"
   ]
  },
  {
   "cell_type": "code",
   "execution_count": 18,
   "id": "f0cf0e29",
   "metadata": {},
   "outputs": [
    {
     "name": "stdout",
     "output_type": "stream",
     "text": [
      "Dataset before handling incorrect values\n",
      "   id   name gender  age income\n",
      "0   1   John      M   25  50000\n",
      "1   2   Jane      F  -31  70000\n",
      "2   3  Molly      F   42    NaN\n",
      "3   4    Bob      M   19  30000\n",
      "4   5  Alice      z   37  60000\n"
     ]
    }
   ],
   "source": [
    "# Create a dummy dataset\n",
    "data = pd.DataFrame({\n",
    "    'id':[1,2,3,4,5],\n",
    "    'name': ['John','Jane','Molly','Bob','Alice'],\n",
    "    'gender': ['M','F','F','M','z'],\n",
    "    'age': [25, -31, 42, 19, 37],\n",
    "    'income': [50000, 70000, np.nan, '30000', 60000]\n",
    "})\n",
    "print(\"Dataset before handling incorrect values\")\n",
    "print(data)"
   ]
  },
  {
   "cell_type": "code",
   "execution_count": 19,
   "id": "d38f0b1e",
   "metadata": {},
   "outputs": [
    {
     "name": "stdout",
     "output_type": "stream",
     "text": [
      "   id   name gender  age income\n",
      "0   1   John      M   25  50000\n",
      "1   2   Jane      F  -31  70000\n",
      "2   3  Molly      F   42    NaN\n",
      "3   4    Bob      M   19  30000\n",
      "4   5  Alice      z   37  60000\n",
      "After dropping with age condition:    id   name gender  age income\n",
      "0   1   John      M   25  50000\n",
      "2   3  Molly      F   42    NaN\n",
      "3   4    Bob      M   19  30000\n",
      "4   5  Alice      z   37  60000\n",
      "After dropping with gender condition:    id   name gender  age income\n",
      "0   1   John      M   25  50000\n",
      "2   3  Molly      F   42    NaN\n",
      "3   4    Bob      M   19  30000\n",
      "After dropping with income condition:    id   name gender  age income\n",
      "0   1   John      M   25  50000\n",
      "2   3  Molly      F   42    NaN\n",
      "\n",
      "Dataset after handling incorrect values\n",
      "   id   name gender  age income\n",
      "0   1   John      M   25  50000\n",
      "2   3  Molly      F   42    NaN\n"
     ]
    }
   ],
   "source": [
    "# Identify incorrect data\n",
    "incorrect_age = data[(data['age'] <=0) | (data['age'] >100)]\n",
    "incorrect_gender = data[~data['gender'].isin(['M','F'])]\n",
    "incorrect_income = data[~data['income'].apply(lambda x: isinstance(x, (int, float)))]\n",
    "\n",
    "#delete incorrect data\n",
    "print(data)\n",
    "data = data.drop(incorrect_age.index)\n",
    "print(\"After dropping with age condition:\", data)\n",
    "data = data.drop(incorrect_gender.index)\n",
    "print(\"After dropping with gender condition:\", data)\n",
    "data = data.drop(incorrect_income.index)\n",
    "print(\"After dropping with income condition:\", data)\n",
    "\n",
    "#display the cleaned dataset\n",
    "print('\\nDataset after handling incorrect values')\n",
    "print(data)"
   ]
  },
  {
   "cell_type": "markdown",
   "id": "85f719a6",
   "metadata": {},
   "source": [
    "## Inconsistencies in data"
   ]
  },
  {
   "cell_type": "code",
   "execution_count": 21,
   "id": "4662cc68",
   "metadata": {},
   "outputs": [
    {
     "name": "stdout",
     "output_type": "stream",
     "text": [
      "Inconsistent Data\n",
      "   id        country        date\n",
      "0   1            USA  2020-01-01\n",
      "1   2          U.S.A  01/02/2021\n",
      "2   3         Canada  2021-01-01\n",
      "3   4         Mexico  2021-01-01\n",
      "4   5  United States  01-01-2021\n",
      "\n",
      "Consistent Data\n",
      "   id country        date\n",
      "0   1      US  2020-01-01\n",
      "1   2      US  2021-01-02\n",
      "2   3      CA  2021-01-01\n",
      "3   4      MX  2021-01-01\n",
      "4   5      US  01-01-2021\n"
     ]
    }
   ],
   "source": [
    "# Create a dummy dataset\n",
    "data = pd.DataFrame({\n",
    "    'id': [1,2,3,4,5],\n",
    "    'country': ['USA', 'U.S.A','Canada','Mexico','United States'],\n",
    "    'date': ['2020-01-01','01/02/2021','2021-01-01','2021-01-01','01-01-2021']\n",
    "})\n",
    "\n",
    "# define rules for resolving incosistencies\n",
    "country_codes = {\n",
    "    'USA' : 'US',\n",
    "    'U.S.A' : 'US',\n",
    "    'United States' : 'US',\n",
    "    'Canada' : 'CA',\n",
    "    'Mexico' : 'MX'\n",
    "}\n",
    "print(\"Inconsistent Data\")\n",
    "print(data)\n",
    "\n",
    "def parse_date(date_str):\n",
    "    if '-' in date_str:\n",
    "        return date_str\n",
    "    elif '/' in date_str:\n",
    "        parts = date_str.split('/')\n",
    "        return f'{parts[2]}-{parts[0]}-{parts[1]}'\n",
    "    else:\n",
    "        parts = date_str.split('-')\n",
    "        return f'{parts[2]}-{parts[1]}-{parts[0]}'\n",
    "    \n",
    "#apply rules to the data\n",
    "data['country'] = data['country'].apply(lambda x: country_codes.get(x,x))\n",
    "data['date'] = data['date'].apply(parse_date)\n",
    "\n",
    "#verify the results\n",
    "print(\"\\nConsistent Data\")\n",
    "print(data)"
   ]
  },
  {
   "cell_type": "markdown",
   "id": "bedf69bc",
   "metadata": {},
   "source": [
    "## Assignment: arrange the date in year/month/day format "
   ]
  },
  {
   "cell_type": "code",
   "execution_count": 25,
   "id": "98725bfd",
   "metadata": {},
   "outputs": [
    {
     "name": "stdout",
     "output_type": "stream",
     "text": [
      "Inconsistent Data\n",
      "   id country        date\n",
      "0   1      US  2020-01-01\n",
      "1   2      US  2021-01-02\n",
      "2   3      CA  2021-01-01\n",
      "3   4      MX  2021-01-01\n",
      "4   5      US  01-01-2021\n",
      "\n",
      "Consistent Data\n",
      "   id country        date\n",
      "0   1      US  2020-01-01\n",
      "1   2      US  2021-01-02\n",
      "2   3      CA  2021-01-01\n",
      "3   4      MX  2021-01-01\n",
      "4   5      US  2021-01-01\n"
     ]
    }
   ],
   "source": [
    "print(\"Inconsistent Data\")\n",
    "print(data)\n",
    "\n",
    "def parse_date(date_str):\n",
    "    if '-' in date_str:\n",
    "        parts = date_str.split('-')\n",
    "        if(len(parts[0])==4):\n",
    "            return date_str\n",
    "        else:\n",
    "            return f'{parts[2]}-{parts[0]}-{parts[1]}'\n",
    "    elif '/' in date_str:\n",
    "        parts = date_str.split('/')\n",
    "        return f'{parts[2]}-{parts[0]}-{parts[1]}'\n",
    "    else:\n",
    "        parts = date_str.split('-')\n",
    "        return f'{parts[2]}-{parts[1]}-{parts[0]}'\n",
    "    \n",
    "#apply rules to the data\n",
    "data['country'] = data['country'].apply(lambda x: country_codes.get(x,x))\n",
    "data['date'] = data['date'].apply(parse_date)\n",
    "\n",
    "#verify the results\n",
    "print(\"\\nConsistent Data\")\n",
    "print(data)"
   ]
  },
  {
   "cell_type": "code",
   "execution_count": null,
   "id": "2055130d",
   "metadata": {},
   "outputs": [],
   "source": []
  }
 ],
 "metadata": {
  "kernelspec": {
   "display_name": "Python 3 (ipykernel)",
   "language": "python",
   "name": "python3"
  },
  "language_info": {
   "codemirror_mode": {
    "name": "ipython",
    "version": 3
   },
   "file_extension": ".py",
   "mimetype": "text/x-python",
   "name": "python",
   "nbconvert_exporter": "python",
   "pygments_lexer": "ipython3",
   "version": "3.10.0"
  }
 },
 "nbformat": 4,
 "nbformat_minor": 5
}
