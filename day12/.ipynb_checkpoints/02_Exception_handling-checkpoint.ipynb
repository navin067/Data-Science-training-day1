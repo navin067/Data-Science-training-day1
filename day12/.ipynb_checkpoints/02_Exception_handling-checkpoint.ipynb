{
 "cells": [
  {
   "cell_type": "markdown",
   "id": "792f4f2d",
   "metadata": {},
   "source": [
    "# Exception Handling"
   ]
  },
  {
   "cell_type": "code",
   "execution_count": 3,
   "id": "4cf13af9",
   "metadata": {},
   "outputs": [
    {
     "name": "stdout",
     "output_type": "stream",
     "text": [
      "Enter a number: a\n",
      "Invalid input. Input must be an interger\n"
     ]
    }
   ],
   "source": [
    "try:\n",
    "    number = int(input(\"Enter a number: \"))\n",
    "    print(number)\n",
    "except ValueError:\n",
    "    print(\"Invalid input. Input must be an interger\")"
   ]
  },
  {
   "cell_type": "code",
   "execution_count": 4,
   "id": "f37cd651",
   "metadata": {},
   "outputs": [
    {
     "name": "stdout",
     "output_type": "stream",
     "text": [
      "Enter a number: 2\n",
      "2\n"
     ]
    }
   ],
   "source": [
    "try:\n",
    "    number = int(input(\"Enter a number: \"))\n",
    "    print(number)\n",
    "except ValueError:\n",
    "    print(\"Invalid input. Input must be an interger\")"
   ]
  },
  {
   "cell_type": "markdown",
   "id": "b23f64c6",
   "metadata": {},
   "source": [
    "## Two exceptions"
   ]
  },
  {
   "cell_type": "code",
   "execution_count": 5,
   "id": "ba3f30d1",
   "metadata": {},
   "outputs": [
    {
     "name": "stdout",
     "output_type": "stream",
     "text": [
      "Enter a number: 2\n",
      "Enter a divider: 1\n",
      "2.0\n"
     ]
    }
   ],
   "source": [
    "try:\n",
    "    number1 = int(input(\"Enter a number: \"))\n",
    "    number2 = int(input(\"Enter a divider: \"))\n",
    "    print(number1/number2)\n",
    "except ValueError:\n",
    "    print(\"Invalid input. Input must be an interger\")\n",
    "except ZeroDivisionError:\n",
    "    print(\"Cannot divide a number by 0. Please change the divider\")"
   ]
  },
  {
   "cell_type": "code",
   "execution_count": 6,
   "id": "9c67d72e",
   "metadata": {},
   "outputs": [
    {
     "name": "stdout",
     "output_type": "stream",
     "text": [
      "Enter a number: 6\n",
      "Enter a divider: a\n",
      "Invalid input. Input must be an interger\n"
     ]
    }
   ],
   "source": [
    "try:\n",
    "    number1 = int(input(\"Enter a number: \"))\n",
    "    number2 = int(input(\"Enter a divider: \"))\n",
    "    print(number1/number2)\n",
    "except ValueError:\n",
    "    print(\"Invalid input. Input must be an interger\")\n",
    "except ZeroDivisionError:\n",
    "    print(\"Cannot divide a number by 0. Please change the divider\")"
   ]
  },
  {
   "cell_type": "code",
   "execution_count": 7,
   "id": "3285e273",
   "metadata": {},
   "outputs": [
    {
     "name": "stdout",
     "output_type": "stream",
     "text": [
      "Enter a number: 8\n",
      "Enter a divider: 0\n",
      "Cannot divide a number by 0. Please change the divider\n"
     ]
    }
   ],
   "source": [
    "try:\n",
    "    number1 = int(input(\"Enter a number: \"))\n",
    "    number2 = int(input(\"Enter a divider: \"))\n",
    "    print(number1/number2)\n",
    "except ValueError:\n",
    "    print(\"Invalid input. Input must be an interger\")\n",
    "except ZeroDivisionError:\n",
    "    print(\"Cannot divide a number by 0. Please change the divider\")"
   ]
  },
  {
   "cell_type": "code",
   "execution_count": 10,
   "id": "0b9b7050",
   "metadata": {},
   "outputs": [
    {
     "name": "stdout",
     "output_type": "stream",
     "text": [
      "Could not convert input to integer\n"
     ]
    }
   ],
   "source": [
    "num_str = 'abc'\n",
    "try: \n",
    "    num = int(num_str)\n",
    "    print(num)\n",
    "except (ValueError, TypeError): #same exception handler for two types of errors\n",
    "    print(\"Could not convert input to integer\")"
   ]
  },
  {
   "cell_type": "code",
   "execution_count": 11,
   "id": "1669a6fc",
   "metadata": {},
   "outputs": [
    {
     "name": "stdout",
     "output_type": "stream",
     "text": [
      "Enter a numbera\n",
      "An unkown exception occured:\n"
     ]
    }
   ],
   "source": [
    "try:\n",
    "    num = int(input(\"Enter a number\"))\n",
    "    print(num)\n",
    "except Exception:\n",
    "    print(\"An unkown exception occured:\")"
   ]
  },
  {
   "cell_type": "code",
   "execution_count": 12,
   "id": "3a0dd948",
   "metadata": {},
   "outputs": [
    {
     "name": "stdout",
     "output_type": "stream",
     "text": [
      "Enter a numbera\n",
      "invalid literal for int() with base 10: 'a'\n"
     ]
    }
   ],
   "source": [
    "try:\n",
    "    num = int(input(\"Enter a number\"))\n",
    "    print(num)\n",
    "except Exception as e:\n",
    "    print(e)"
   ]
  },
  {
   "cell_type": "code",
   "execution_count": 13,
   "id": "0552d418",
   "metadata": {},
   "outputs": [
    {
     "name": "stdout",
     "output_type": "stream",
     "text": [
      "Enter a number: 4\n",
      "Enter a divider: 2\n",
      "Result of division:  2.0\n"
     ]
    }
   ],
   "source": [
    "try:\n",
    "    number1 = int(input(\"Enter a number: \"))\n",
    "    number2 = int(input(\"Enter a divider: \"))\n",
    "    num = number1/number2\n",
    "except ValueError:\n",
    "    print(\"Invalid input. Input must be an interger\")\n",
    "except ZeroDivisionError:\n",
    "    print(\"Cannot divide a number by 0. Please change the divider\")\n",
    "else:\n",
    "    print(\"Result of division: \", num)"
   ]
  },
  {
   "cell_type": "markdown",
   "id": "cae5776c",
   "metadata": {},
   "source": [
    "## Finally block"
   ]
  },
  {
   "cell_type": "code",
   "execution_count": 15,
   "id": "6ae01ebd",
   "metadata": {},
   "outputs": [
    {
     "name": "stdout",
     "output_type": "stream",
     "text": [
      "Enter a number: 4\n",
      "Enter a divider: 2\n",
      "2.0\n",
      "this block is always executed.\n"
     ]
    }
   ],
   "source": [
    "try:\n",
    "    number1 = int(input(\"Enter a number: \"))\n",
    "    number2 = int(input(\"Enter a divider: \"))\n",
    "    num = number1/number2\n",
    "    print(num)\n",
    "except ValueError:\n",
    "    print(\"Invalid input. Input must be an interger\")\n",
    "except ZeroDivisionError:\n",
    "    print(\"Cannot divide a number by 0. Please change the divider\")\n",
    "finally:\n",
    "    print(\"this block is always executed.\")"
   ]
  },
  {
   "cell_type": "markdown",
   "id": "fca80b3f",
   "metadata": {},
   "source": [
    "## Raise"
   ]
  },
  {
   "cell_type": "code",
   "execution_count": 16,
   "id": "c4c08076",
   "metadata": {},
   "outputs": [
    {
     "ename": "ValueError",
     "evalue": "x should not be greater than 5",
     "output_type": "error",
     "traceback": [
      "\u001b[1;31m---------------------------------------------------------------------------\u001b[0m",
      "\u001b[1;31mValueError\u001b[0m                                Traceback (most recent call last)",
      "Cell \u001b[1;32mIn[16], line 3\u001b[0m\n\u001b[0;32m      1\u001b[0m x \u001b[38;5;241m=\u001b[39m \u001b[38;5;241m10\u001b[39m\n\u001b[0;32m      2\u001b[0m \u001b[38;5;28;01mif\u001b[39;00m x \u001b[38;5;241m>\u001b[39m \u001b[38;5;241m5\u001b[39m:\n\u001b[1;32m----> 3\u001b[0m     \u001b[38;5;28;01mraise\u001b[39;00m \u001b[38;5;167;01mValueError\u001b[39;00m(\u001b[38;5;124m\"\u001b[39m\u001b[38;5;124mx should not be greater than 5\u001b[39m\u001b[38;5;124m\"\u001b[39m)\n",
      "\u001b[1;31mValueError\u001b[0m: x should not be greater than 5"
     ]
    }
   ],
   "source": [
    "x = 10\n",
    "if x > 5:\n",
    "    raise ValueError(\"x should not be greater than 5\")"
   ]
  },
  {
   "cell_type": "code",
   "execution_count": 17,
   "id": "ad49301b",
   "metadata": {},
   "outputs": [
    {
     "ename": "NameError",
     "evalue": "name 'ErrorCase' is not defined",
     "output_type": "error",
     "traceback": [
      "\u001b[1;31m---------------------------------------------------------------------------\u001b[0m",
      "\u001b[1;31mNameError\u001b[0m                                 Traceback (most recent call last)",
      "Cell \u001b[1;32mIn[17], line 3\u001b[0m\n\u001b[0;32m      1\u001b[0m x \u001b[38;5;241m=\u001b[39m \u001b[38;5;241m10\u001b[39m\n\u001b[0;32m      2\u001b[0m \u001b[38;5;28;01mif\u001b[39;00m x \u001b[38;5;241m>\u001b[39m \u001b[38;5;241m5\u001b[39m:\n\u001b[1;32m----> 3\u001b[0m     \u001b[38;5;28;01mraise\u001b[39;00m \u001b[43mErrorCase\u001b[49m(\u001b[38;5;124m\"\u001b[39m\u001b[38;5;124mx should not be greater than 5\u001b[39m\u001b[38;5;124m\"\u001b[39m)\n",
      "\u001b[1;31mNameError\u001b[0m: name 'ErrorCase' is not defined"
     ]
    }
   ],
   "source": [
    "x = 10\n",
    "if x > 5:\n",
    "    raise ErrorCase(\"x should not be greater than 5\")"
   ]
  },
  {
   "cell_type": "code",
   "execution_count": 18,
   "id": "fd45be66",
   "metadata": {},
   "outputs": [
    {
     "ename": "ValueError",
     "evalue": "",
     "output_type": "error",
     "traceback": [
      "\u001b[1;31m---------------------------------------------------------------------------\u001b[0m",
      "\u001b[1;31mValueError\u001b[0m                                Traceback (most recent call last)",
      "Cell \u001b[1;32mIn[18], line 3\u001b[0m\n\u001b[0;32m      1\u001b[0m x \u001b[38;5;241m=\u001b[39m \u001b[38;5;241m10\u001b[39m\n\u001b[0;32m      2\u001b[0m \u001b[38;5;28;01mif\u001b[39;00m x \u001b[38;5;241m>\u001b[39m \u001b[38;5;241m5\u001b[39m:\n\u001b[1;32m----> 3\u001b[0m     \u001b[38;5;28;01mraise\u001b[39;00m \u001b[38;5;167;01mValueError\u001b[39;00m\n",
      "\u001b[1;31mValueError\u001b[0m: "
     ]
    }
   ],
   "source": [
    "x = 10\n",
    "if x > 5:\n",
    "    raise ValueError"
   ]
  },
  {
   "cell_type": "markdown",
   "id": "f81651dd",
   "metadata": {},
   "source": [
    "## Custom exception"
   ]
  },
  {
   "cell_type": "code",
   "execution_count": 19,
   "id": "d323624e",
   "metadata": {},
   "outputs": [],
   "source": [
    "class Myexception(Exception):\n",
    "    pass"
   ]
  },
  {
   "cell_type": "code",
   "execution_count": 20,
   "id": "4b4e6455",
   "metadata": {},
   "outputs": [
    {
     "ename": "Myexception",
     "evalue": "x should not be greater than 5",
     "output_type": "error",
     "traceback": [
      "\u001b[1;31m---------------------------------------------------------------------------\u001b[0m",
      "\u001b[1;31mMyexception\u001b[0m                               Traceback (most recent call last)",
      "Cell \u001b[1;32mIn[20], line 3\u001b[0m\n\u001b[0;32m      1\u001b[0m x \u001b[38;5;241m=\u001b[39m \u001b[38;5;241m10\u001b[39m\n\u001b[0;32m      2\u001b[0m \u001b[38;5;28;01mif\u001b[39;00m x \u001b[38;5;241m>\u001b[39m \u001b[38;5;241m5\u001b[39m:\n\u001b[1;32m----> 3\u001b[0m     \u001b[38;5;28;01mraise\u001b[39;00m Myexception(\u001b[38;5;124m\"\u001b[39m\u001b[38;5;124mx should not be greater than 5\u001b[39m\u001b[38;5;124m\"\u001b[39m)\n",
      "\u001b[1;31mMyexception\u001b[0m: x should not be greater than 5"
     ]
    }
   ],
   "source": [
    "x = 10\n",
    "if x > 5:\n",
    "    raise Myexception(\"x should not be greater than 5\")"
   ]
  },
  {
   "cell_type": "code",
   "execution_count": 21,
   "id": "83f4126e",
   "metadata": {},
   "outputs": [
    {
     "name": "stdout",
     "output_type": "stream",
     "text": [
      "Eception caught:  x should not be greater than 5\n"
     ]
    }
   ],
   "source": [
    "try:\n",
    "    raise ValueError(\"x should not be greater than 5\")\n",
    "except Exception as e:\n",
    "    print(\"Eception caught: \",e)"
   ]
  },
  {
   "cell_type": "code",
   "execution_count": null,
   "id": "d74bfb9b",
   "metadata": {},
   "outputs": [],
   "source": []
  }
 ],
 "metadata": {
  "kernelspec": {
   "display_name": "Python 3 (ipykernel)",
   "language": "python",
   "name": "python3"
  },
  "language_info": {
   "codemirror_mode": {
    "name": "ipython",
    "version": 3
   },
   "file_extension": ".py",
   "mimetype": "text/x-python",
   "name": "python",
   "nbconvert_exporter": "python",
   "pygments_lexer": "ipython3",
   "version": "3.10.0"
  }
 },
 "nbformat": 4,
 "nbformat_minor": 5
}
