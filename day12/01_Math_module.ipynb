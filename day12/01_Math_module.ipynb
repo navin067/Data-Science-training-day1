{
 "cells": [
  {
   "cell_type": "markdown",
   "id": "118e54ea",
   "metadata": {},
   "source": [
    "# Math module"
   ]
  },
  {
   "cell_type": "code",
   "execution_count": 2,
   "id": "e2c422ce",
   "metadata": {},
   "outputs": [
    {
     "name": "stdout",
     "output_type": "stream",
     "text": [
      "16.0\n",
      "2.0\n",
      "5\n",
      "-5\n",
      "-4\n",
      "69.3\n"
     ]
    }
   ],
   "source": [
    "import math\n",
    "\n",
    "print(math.pow(4,2))\n",
    "print(math.sqrt(4))\n",
    "print(math.ceil(4.2))\n",
    "print(math.floor(-4.8))\n",
    "print(math.trunc(-4.7))\n",
    "print(math.fabs(-69.3))"
   ]
  },
  {
   "cell_type": "code",
   "execution_count": 3,
   "id": "ede498e5",
   "metadata": {},
   "outputs": [
    {
     "name": "stdout",
     "output_type": "stream",
     "text": [
      "16.0\n",
      "4.0\n",
      "5\n",
      "45.0\n"
     ]
    }
   ],
   "source": [
    "from math import *\n",
    "\n",
    "print(pow(4,2))\n",
    "print(sqrt(16))\n",
    "print(ceil(4.7))\n",
    "print(fabs(-45))"
   ]
  },
  {
   "cell_type": "code",
   "execution_count": 4,
   "id": "0e24a855",
   "metadata": {},
   "outputs": [
    {
     "name": "stdout",
     "output_type": "stream",
     "text": [
      "8.0\n"
     ]
    }
   ],
   "source": [
    "print(math.pow(2,3))"
   ]
  },
  {
   "cell_type": "code",
   "execution_count": 7,
   "id": "2a0c818f",
   "metadata": {},
   "outputs": [
    {
     "name": "stdout",
     "output_type": "stream",
     "text": [
      "1.0\n",
      "6.123233995736766e-17\n",
      "1.633123935319537e+16\n",
      "90.0\n",
      "3.141592653589793\n",
      "5.0\n"
     ]
    }
   ],
   "source": [
    "print(math.sin(math.pi/2))\n",
    "print(math.cos(math.pi/2))\n",
    "print(math.tan(math.pi/2))\n",
    "print(math.degrees(math.pi/2))\n",
    "print(math.radians(180))\n",
    "print(math.hypot(3,4))"
   ]
  },
  {
   "cell_type": "code",
   "execution_count": 9,
   "id": "939ba6ad",
   "metadata": {},
   "outputs": [
    {
     "name": "stdout",
     "output_type": "stream",
     "text": [
      "120\n",
      "10\n",
      "True\n",
      "4\n",
      "5.196152422706632\n",
      "0.5204998778130465\n",
      "24.0\n",
      "60\n"
     ]
    }
   ],
   "source": [
    "print(math.factorial(5))\n",
    "print(math.comb(5,2))\n",
    "print(math.isclose(0.2+0.1, 0.3))\n",
    "print(math.isqrt(16))\n",
    "p = (1,2,3)\n",
    "q = (4,5,6)\n",
    "print(math.dist(p,q))\n",
    "print(math.erf(0.5))\n",
    "print(math.gamma(5))\n",
    "print(math.perm(5,3))"
   ]
  },
  {
   "cell_type": "code",
   "execution_count": 10,
   "id": "7a083b64",
   "metadata": {},
   "outputs": [
    {
     "name": "stdout",
     "output_type": "stream",
     "text": [
      "inf\n",
      "6.283185307179586\n",
      "nan\n"
     ]
    }
   ],
   "source": [
    "print(math.inf)\n",
    "print(math.tau)\n",
    "print(math.nan)"
   ]
  },
  {
   "cell_type": "code",
   "execution_count": null,
   "id": "5faadff6",
   "metadata": {},
   "outputs": [],
   "source": []
  }
 ],
 "metadata": {
  "kernelspec": {
   "display_name": "Python 3 (ipykernel)",
   "language": "python",
   "name": "python3"
  },
  "language_info": {
   "codemirror_mode": {
    "name": "ipython",
    "version": 3
   },
   "file_extension": ".py",
   "mimetype": "text/x-python",
   "name": "python",
   "nbconvert_exporter": "python",
   "pygments_lexer": "ipython3",
   "version": "3.10.0"
  }
 },
 "nbformat": 4,
 "nbformat_minor": 5
}
