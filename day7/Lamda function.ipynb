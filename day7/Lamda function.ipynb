{
 "cells": [
  {
   "cell_type": "markdown",
   "id": "9fce01ed",
   "metadata": {},
   "source": [
    "# Lamda Functions\n",
    "\n",
    "Anonymous function"
   ]
  },
  {
   "cell_type": "code",
   "execution_count": 2,
   "id": "2562d3da",
   "metadata": {},
   "outputs": [],
   "source": [
    "square = lambda x: x ** 2"
   ]
  },
  {
   "cell_type": "code",
   "execution_count": 3,
   "id": "b2c43809",
   "metadata": {},
   "outputs": [
    {
     "data": {
      "text/plain": [
       "9"
      ]
     },
     "execution_count": 3,
     "metadata": {},
     "output_type": "execute_result"
    }
   ],
   "source": [
    "square(3)"
   ]
  },
  {
   "cell_type": "code",
   "execution_count": 4,
   "id": "1fae7dc8",
   "metadata": {},
   "outputs": [],
   "source": [
    "list1 = [1,2,3,4]\n",
    "\n",
    "sum_calc = lambda a: sum(a)"
   ]
  },
  {
   "cell_type": "code",
   "execution_count": 5,
   "id": "51669a04",
   "metadata": {},
   "outputs": [
    {
     "data": {
      "text/plain": [
       "10"
      ]
     },
     "execution_count": 5,
     "metadata": {},
     "output_type": "execute_result"
    }
   ],
   "source": [
    "sum_calc(list1)"
   ]
  },
  {
   "cell_type": "code",
   "execution_count": null,
   "id": "dd4d01b2",
   "metadata": {},
   "outputs": [],
   "source": []
  }
 ],
 "metadata": {
  "kernelspec": {
   "display_name": "Python 3 (ipykernel)",
   "language": "python",
   "name": "python3"
  },
  "language_info": {
   "codemirror_mode": {
    "name": "ipython",
    "version": 3
   },
   "file_extension": ".py",
   "mimetype": "text/x-python",
   "name": "python",
   "nbconvert_exporter": "python",
   "pygments_lexer": "ipython3",
   "version": "3.10.0"
  }
 },
 "nbformat": 4,
 "nbformat_minor": 5
}
