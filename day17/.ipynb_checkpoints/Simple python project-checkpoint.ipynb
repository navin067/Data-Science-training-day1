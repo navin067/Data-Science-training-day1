{
 "cells": [
  {
   "cell_type": "markdown",
   "id": "26554538",
   "metadata": {},
   "source": [
    "# Online shopping cart system"
   ]
  },
  {
   "cell_type": "markdown",
   "id": "50c429e7",
   "metadata": {},
   "source": [
    "### We want to build an online shopping cart system that allows users to add products to their cart, calculate the total cost, apply discounts, and generate an invoice. The system should include the following functionalities. \n",
    "\n",
    "* Adding products to the cart\n",
    "* Removing products from the cart\n",
    "* Calculation the total cost\n",
    "* Applying discounts based on user type\n",
    "* Generating an invoice\n"
   ]
  },
  {
   "cell_type": "markdown",
   "id": "bda7709e",
   "metadata": {},
   "source": [
    "## Create a product class and a user class"
   ]
  },
  {
   "cell_type": "code",
   "execution_count": 2,
   "id": "f499b1e1",
   "metadata": {},
   "outputs": [],
   "source": [
    "class Product:\n",
    "    def __init__(self,name,price):\n",
    "        self.name = name\n",
    "        self.price = price\n",
    "        \n",
    "class Users:\n",
    "    def __init__(self,user_name,is_premium = False):\n",
    "        self.name = user_name\n",
    "        self.is_premium = is_premium"
   ]
  },
  {
   "cell_type": "markdown",
   "id": "81bda330",
   "metadata": {},
   "source": [
    "### Creating a decorator for applying 10% discount for premium user:"
   ]
  },
  {
   "cell_type": "code",
   "execution_count": 3,
   "id": "bf024840",
   "metadata": {},
   "outputs": [],
   "source": [
    "def discount_10_percent(func):\n",
    "    def wrapper(cost):\n",
    "        total_price = func(cost)\n",
    "        price_with_discount = total_price * 0.9\n",
    "        return price_with_discount\n",
    "    return wrapper"
   ]
  },
  {
   "cell_type": "markdown",
   "id": "27f7a34e",
   "metadata": {},
   "source": [
    "### Shopping cart for a user"
   ]
  },
  {
   "cell_type": "code",
   "execution_count": 4,
   "id": "2eeab93c",
   "metadata": {},
   "outputs": [],
   "source": [
    "class ShoppingCart:\n",
    "    def __init__(self):\n",
    "        self.products = []\n",
    "    \n",
    "    def add_products(self,product):\n",
    "        self.products.append(product)\n",
    "        \n",
    "    def remove_product(self,product):\n",
    "        self. products.remove(product)\n",
    "        \n",
    "    def calculate_total_cost(self):\n",
    "        total_cost = sum(product.price for product in self.products)\n",
    "        return total_cost\n",
    "    \n",
    "    @discount_10_percent\n",
    "    def calculate_discounted_cost(self):\n",
    "        total_cost = sum(product.price for product in self.products)\n",
    "        return total_cost\n",
    "    \n",
    "    def generate_invoice(self,user):\n",
    "        invoice = f\"Invoice for {user.name}:\\n\"\n",
    "        invoice += \"======================== \\n\"\n",
    "        for product in self.products:\n",
    "            invoice += f\"{product.name}: ${product.price}\\n\"\n",
    "        total_cost = self.calculate_total_cost()\n",
    "        if user.is_premium:\n",
    "            invoice += \"---------------------\\n\"\n",
    "            invoice += f\"Sub-total: ${total_cost}\\n\"\n",
    "            final_cost = self.calculate_discounted_cost()\n",
    "            invoice += f\"Discount (10%): ${total_cost - final_cost}\\n\"\n",
    "            total_cost = final_cost\n",
    "        invoice += \"------------------------\\n\"\n",
    "        invoice += f\"Total cost: ${total_cost}\"\n",
    "        return invoice\n",
    "    \n",
    "    def get_products(self):\n",
    "        yield from self.products\n",
    "            \n",
    "        "
   ]
  },
  {
   "cell_type": "code",
   "execution_count": 6,
   "id": "5b42d682",
   "metadata": {},
   "outputs": [
    {
     "name": "stdout",
     "output_type": "stream",
     "text": [
      "Product: Shirt, Price: 20\n",
      "Product: Pants, Price: 30\n"
     ]
    }
   ],
   "source": [
    "product1 = Product(\"Shirt\",20)\n",
    "product2 = Product(\"Pants\",30)\n",
    "product3 = Product(\"Shoes\",50)\n",
    "\n",
    "# Create a shopping cart\n",
    "cart = ShoppingCart()\n",
    "\n",
    "#add products to the cart\n",
    "cart.add_products(product1)\n",
    "cart.add_products(product2)\n",
    "\n",
    "#use the generator to iterate over the products\n",
    "for product in cart.get_products():\n",
    "    print(f\"Product: {product.name}, Price: {product.price}\")"
   ]
  },
  {
   "cell_type": "code",
   "execution_count": 8,
   "id": "07bc2864",
   "metadata": {},
   "outputs": [
    {
     "name": "stdout",
     "output_type": "stream",
     "text": [
      "Invoice for Rita:\n",
      "======================== \n",
      "Shirt: $20\n",
      "Pants: $30\n",
      "------------------------\n",
      "Total cost: $50\n"
     ]
    }
   ],
   "source": [
    "# create a user\n",
    "user1 = Users(\"Rita\", False)\n",
    "\n",
    "#generate and print the invoice\n",
    "invoice = cart.generate_invoice(user1)\n",
    "print(invoice)"
   ]
  },
  {
   "cell_type": "code",
   "execution_count": 9,
   "id": "cf5718c2",
   "metadata": {},
   "outputs": [
    {
     "name": "stdout",
     "output_type": "stream",
     "text": [
      "Invoice for Ram:\n",
      "======================== \n",
      "Shirt: $20\n",
      "Pants: $30\n",
      "---------------------\n",
      "Sub-total: $50\n",
      "Discount (10%): $5.0\n",
      "------------------------\n",
      "Total cost: $45.0\n"
     ]
    }
   ],
   "source": [
    "user2 = Users(\"Ram\", True)\n",
    "invoice = cart.generate_invoice(user2)\n",
    "print(invoice)"
   ]
  },
  {
   "cell_type": "code",
   "execution_count": null,
   "id": "c6eeb812",
   "metadata": {},
   "outputs": [],
   "source": []
  }
 ],
 "metadata": {
  "kernelspec": {
   "display_name": "Python 3 (ipykernel)",
   "language": "python",
   "name": "python3"
  },
  "language_info": {
   "codemirror_mode": {
    "name": "ipython",
    "version": 3
   },
   "file_extension": ".py",
   "mimetype": "text/x-python",
   "name": "python",
   "nbconvert_exporter": "python",
   "pygments_lexer": "ipython3",
   "version": "3.10.0"
  }
 },
 "nbformat": 4,
 "nbformat_minor": 5
}
