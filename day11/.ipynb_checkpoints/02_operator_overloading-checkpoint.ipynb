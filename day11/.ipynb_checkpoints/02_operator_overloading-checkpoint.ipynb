{
 "cells": [
  {
   "cell_type": "markdown",
   "id": "032e06bc",
   "metadata": {},
   "source": [
    "# Operator Overloading"
   ]
  },
  {
   "cell_type": "code",
   "execution_count": 1,
   "id": "ef86691c",
   "metadata": {},
   "outputs": [],
   "source": [
    "class Point:\n",
    "    def __init__(self, x, y):\n",
    "        self.x = x\n",
    "        self.y = y\n",
    "    \n",
    "    def __add__(self, other):\n",
    "        x = self.x + other.x\n",
    "        y = self.y + other.y\n",
    "        return Point(x, y)\n",
    "    \n",
    "    def __sub__(self, other):\n",
    "        x = self.x - other.x\n",
    "        y = self.y - other.y\n",
    "        return Point(x, y)\n",
    "    \n",
    "    def __mul__(self, other):\n",
    "        x = self.x * other.x\n",
    "        y = self.y * other.y\n",
    "        return Point(x, y)\n",
    "    \n",
    "    def __truediv__(self, other):\n",
    "        x = self.x / other.x\n",
    "        y = self.y / other.y\n",
    "        return Point(x, y)\n",
    "    \n",
    "    def __eq__(self,other):\n",
    "        return self.x == other.x and self.y == other.y\n",
    "    \n",
    "    def __lt__(self,other):\n",
    "        return self.x < other.x and self.y < other.y"
   ]
  },
  {
   "cell_type": "code",
   "execution_count": 2,
   "id": "f3c62fd6",
   "metadata": {},
   "outputs": [],
   "source": [
    "P1 = Point (2,3)\n",
    "P2 = Point (4,5)"
   ]
  },
  {
   "cell_type": "code",
   "execution_count": 5,
   "id": "83a1467d",
   "metadata": {},
   "outputs": [
    {
     "name": "stdout",
     "output_type": "stream",
     "text": [
      "<__main__.Point object at 0x000002C8316161D0>\n",
      "<__main__.Point object at 0x000002C83155D870>\n",
      "<__main__.Point object at 0x000002C8315CBD90>\n",
      "<__main__.Point object at 0x000002C83155D870>\n",
      "False\n",
      "True\n"
     ]
    }
   ],
   "source": [
    "print(P1 + P2)\n",
    "print(P1 - P2)\n",
    "print(P1 * P2)\n",
    "print(P1 / P2)\n",
    "print(P1 == P2)\n",
    "print(P1 < P2)"
   ]
  },
  {
   "cell_type": "markdown",
   "id": "2b0d0948",
   "metadata": {},
   "source": [
    "## the ouptut above is memory location as repr is being called while printing the object by default"
   ]
  },
  {
   "cell_type": "code",
   "execution_count": 6,
   "id": "55a8e55f",
   "metadata": {},
   "outputs": [],
   "source": [
    "p3 = P1 + P2"
   ]
  },
  {
   "cell_type": "code",
   "execution_count": 7,
   "id": "f312f30d",
   "metadata": {},
   "outputs": [
    {
     "name": "stdout",
     "output_type": "stream",
     "text": [
      "<__main__.Point object at 0x000002C83155D870>\n"
     ]
    }
   ],
   "source": [
    "print(p3)"
   ]
  },
  {
   "cell_type": "code",
   "execution_count": 8,
   "id": "ad76772d",
   "metadata": {},
   "outputs": [
    {
     "name": "stdout",
     "output_type": "stream",
     "text": [
      "<__main__.Point object at 0x000002C83155D870>\n"
     ]
    }
   ],
   "source": [
    "print(str(p3))"
   ]
  },
  {
   "cell_type": "markdown",
   "id": "ffc214d3",
   "metadata": {},
   "source": [
    "## Added __str__ function to modify the format while printing different operations"
   ]
  },
  {
   "cell_type": "code",
   "execution_count": 13,
   "id": "121690ad",
   "metadata": {},
   "outputs": [],
   "source": [
    "class Point:\n",
    "    def __init__(self, x, y):\n",
    "        self.x = x\n",
    "        self.y = y\n",
    "        \n",
    "    def __str__(self):\n",
    "        return f\"({self.x}, {self.y})\"\n",
    "    \n",
    "    def __add__(self, other):\n",
    "        x = self.x + other.x\n",
    "        y = self.y + other.y\n",
    "        return Point(x, y)\n",
    "    \n",
    "    def __sub__(self, other):\n",
    "        x = self.x - other.x\n",
    "        y = self.y - other.y\n",
    "        return Point(x, y)\n",
    "    \n",
    "    def __mul__(self, other):\n",
    "        x = self.x * other.x\n",
    "        y = self.y * other.y\n",
    "        return Point(x, y)\n",
    "    \n",
    "    def __truediv__(self, other):\n",
    "        x = self.x / other.x\n",
    "        y = self.y / other.y\n",
    "        return Point(x, y)\n",
    "    \n",
    "    def __eq__(self,other):\n",
    "        return self.x == other.x and self.y == other.y\n",
    "    \n",
    "    def __lt__(self,other):\n",
    "        return self.x < other.x and self.y < other.y"
   ]
  },
  {
   "cell_type": "code",
   "execution_count": 14,
   "id": "0a200f5c",
   "metadata": {},
   "outputs": [],
   "source": [
    "P1 = Point (2,3)\n",
    "P2 = Point (4,5)"
   ]
  },
  {
   "cell_type": "code",
   "execution_count": 15,
   "id": "9f7026f9",
   "metadata": {},
   "outputs": [
    {
     "name": "stdout",
     "output_type": "stream",
     "text": [
      "(6, 8)\n",
      "(-2, -2)\n",
      "(8, 15)\n",
      "(0.5, 0.6)\n",
      "False\n",
      "True\n"
     ]
    }
   ],
   "source": [
    "print(P1 + P2)\n",
    "print(P1 - P2)\n",
    "print(P1 * P2)\n",
    "print(P1 / P2)\n",
    "print(P1 == P2)\n",
    "print(P1 < P2)"
   ]
  },
  {
   "cell_type": "markdown",
   "id": "5c407066",
   "metadata": {},
   "source": [
    "## Added __repr__ function to modify the format while printing different operations"
   ]
  },
  {
   "cell_type": "code",
   "execution_count": 16,
   "id": "ece1a6af",
   "metadata": {},
   "outputs": [],
   "source": [
    "class Point:\n",
    "    def __init__(self, x, y):\n",
    "        self.x = x\n",
    "        self.y = y\n",
    "        \n",
    "    def __repr__(self):\n",
    "        return f\"Point({self.x}, {self.y})\"\n",
    "    \n",
    "    def __add__(self, other):\n",
    "        x = self.x + other.x\n",
    "        y = self.y + other.y\n",
    "        return Point(x, y)\n",
    "    \n",
    "    def __sub__(self, other):\n",
    "        x = self.x - other.x\n",
    "        y = self.y - other.y\n",
    "        return Point(x, y)\n",
    "    \n",
    "    def __mul__(self, other):\n",
    "        x = self.x * other.x\n",
    "        y = self.y * other.y\n",
    "        return Point(x, y)\n",
    "    \n",
    "    def __truediv__(self, other):\n",
    "        x = self.x / other.x\n",
    "        y = self.y / other.y\n",
    "        return Point(x, y)\n",
    "    \n",
    "    def __eq__(self,other):\n",
    "        return self.x == other.x and self.y == other.y\n",
    "    \n",
    "    def __lt__(self,other):\n",
    "        return self.x < other.x and self.y < other.y"
   ]
  },
  {
   "cell_type": "code",
   "execution_count": 17,
   "id": "dd03e7c2",
   "metadata": {},
   "outputs": [
    {
     "name": "stdout",
     "output_type": "stream",
     "text": [
      "Point(6, 8)\n",
      "Point(-2, -2)\n",
      "Point(8, 15)\n",
      "Point(0.5, 0.6)\n",
      "False\n",
      "True\n"
     ]
    }
   ],
   "source": [
    "print(P1 + P2)\n",
    "print(P1 - P2)\n",
    "print(P1 * P2)\n",
    "print(P1 / P2)\n",
    "print(P1 == P2)\n",
    "print(P1 < P2)"
   ]
  },
  {
   "cell_type": "code",
   "execution_count": 19,
   "id": "e56f0544",
   "metadata": {},
   "outputs": [
    {
     "data": {
      "text/plain": [
       "Point(6, 8)"
      ]
     },
     "execution_count": 19,
     "metadata": {},
     "output_type": "execute_result"
    }
   ],
   "source": [
    "P1 + P2"
   ]
  },
  {
   "cell_type": "code",
   "execution_count": null,
   "id": "22523b8e",
   "metadata": {},
   "outputs": [],
   "source": []
  }
 ],
 "metadata": {
  "kernelspec": {
   "display_name": "Python 3 (ipykernel)",
   "language": "python",
   "name": "python3"
  },
  "language_info": {
   "codemirror_mode": {
    "name": "ipython",
    "version": 3
   },
   "file_extension": ".py",
   "mimetype": "text/x-python",
   "name": "python",
   "nbconvert_exporter": "python",
   "pygments_lexer": "ipython3",
   "version": "3.10.0"
  }
 },
 "nbformat": 4,
 "nbformat_minor": 5
}
