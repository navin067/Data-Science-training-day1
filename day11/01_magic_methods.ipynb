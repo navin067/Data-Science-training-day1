{
 "cells": [
  {
   "cell_type": "markdown",
   "id": "fdef2dcf",
   "metadata": {},
   "source": [
    "# Magic Methods"
   ]
  },
  {
   "cell_type": "code",
   "execution_count": 2,
   "id": "3339667e",
   "metadata": {},
   "outputs": [],
   "source": [
    "class Person:\n",
    "    def __init__(self,name,age):\n",
    "        self.name = name\n",
    "        self.age = age\n",
    "    def __str__(self):\n",
    "        return f'{self.name} is {self.age} years old.'\n",
    "    def __repr__(self):\n",
    "        return f'Person({self.name},{self.age})'\n",
    "    def __len__(self):\n",
    "        return self.age\n",
    "    def __call__(self):\n",
    "        return f\"{self.name} is being called\"\n",
    "    "
   ]
  },
  {
   "cell_type": "code",
   "execution_count": 3,
   "id": "c16aee23",
   "metadata": {},
   "outputs": [],
   "source": [
    "person1 = Person('Nabin', 25)"
   ]
  },
  {
   "cell_type": "code",
   "execution_count": 4,
   "id": "9ffea773",
   "metadata": {},
   "outputs": [
    {
     "name": "stdout",
     "output_type": "stream",
     "text": [
      "Nabin is 25 years old.\n",
      "Nabin is 25 years old.\n",
      "Person(Nabin,25)\n",
      "25\n",
      "Nabin is being called\n"
     ]
    }
   ],
   "source": [
    "print(person1)  #this by default invokes __str__ function\n",
    "print(str(person1))\n",
    "print(repr(person1))\n",
    "print(len(person1))\n",
    "print(person1())"
   ]
  },
  {
   "cell_type": "code",
   "execution_count": 5,
   "id": "a954578a",
   "metadata": {},
   "outputs": [
    {
     "name": "stdout",
     "output_type": "stream",
     "text": [
      "Nabin is 25 years old.\n"
     ]
    }
   ],
   "source": [
    "print(person1)"
   ]
  },
  {
   "cell_type": "code",
   "execution_count": 6,
   "id": "ac6b2a53",
   "metadata": {},
   "outputs": [
    {
     "ename": "NameError",
     "evalue": "name 'person' is not defined",
     "output_type": "error",
     "traceback": [
      "\u001b[1;31m---------------------------------------------------------------------------\u001b[0m",
      "\u001b[1;31mNameError\u001b[0m                                 Traceback (most recent call last)",
      "Cell \u001b[1;32mIn[6], line 1\u001b[0m\n\u001b[1;32m----> 1\u001b[0m \u001b[43mperson\u001b[49m()\n",
      "\u001b[1;31mNameError\u001b[0m: name 'person' is not defined"
     ]
    }
   ],
   "source": [
    "person()"
   ]
  },
  {
   "cell_type": "code",
   "execution_count": 7,
   "id": "58be13e2",
   "metadata": {},
   "outputs": [
    {
     "data": {
      "text/plain": [
       "'Nabin is being called'"
      ]
     },
     "execution_count": 7,
     "metadata": {},
     "output_type": "execute_result"
    }
   ],
   "source": [
    "person1()"
   ]
  },
  {
   "cell_type": "code",
   "execution_count": 8,
   "id": "2abf03b5",
   "metadata": {},
   "outputs": [
    {
     "name": "stdout",
     "output_type": "stream",
     "text": [
      "Nabin is 25 years old.\n"
     ]
    }
   ],
   "source": [
    "print(person1)"
   ]
  },
  {
   "cell_type": "code",
   "execution_count": 9,
   "id": "e628307b",
   "metadata": {},
   "outputs": [
    {
     "data": {
      "text/plain": [
       "Person(Nabin,25)"
      ]
     },
     "execution_count": 9,
     "metadata": {},
     "output_type": "execute_result"
    }
   ],
   "source": [
    "person1"
   ]
  },
  {
   "cell_type": "code",
   "execution_count": 10,
   "id": "ba637995",
   "metadata": {},
   "outputs": [
    {
     "name": "stdout",
     "output_type": "stream",
     "text": [
      "Nabin is 25 years old.\n"
     ]
    }
   ],
   "source": [
    "print(person1)"
   ]
  },
  {
   "cell_type": "code",
   "execution_count": 11,
   "id": "4782b8cd",
   "metadata": {},
   "outputs": [],
   "source": [
    "class Person:\n",
    "    def __init__(self,name,age):\n",
    "        self.name = name\n",
    "        self.age = age\n",
    "    def __repr__(self):\n",
    "        return f'Person({self.name},{self.age})'\n",
    "    def __len__(self):\n",
    "        return self.age\n",
    "    def __call__(self):\n",
    "        return f\"{self.name} is being called\""
   ]
  },
  {
   "cell_type": "code",
   "execution_count": 12,
   "id": "ed409539",
   "metadata": {},
   "outputs": [],
   "source": [
    "person1 = Person('Astha',30)"
   ]
  },
  {
   "cell_type": "code",
   "execution_count": 13,
   "id": "cc9c68af",
   "metadata": {},
   "outputs": [
    {
     "name": "stdout",
     "output_type": "stream",
     "text": [
      "Person(Astha,30)\n"
     ]
    }
   ],
   "source": [
    "print(person1)"
   ]
  },
  {
   "cell_type": "code",
   "execution_count": 14,
   "id": "79670450",
   "metadata": {},
   "outputs": [
    {
     "data": {
      "text/plain": [
       "Person(Astha,30)"
      ]
     },
     "execution_count": 14,
     "metadata": {},
     "output_type": "execute_result"
    }
   ],
   "source": [
    "person1"
   ]
  },
  {
   "cell_type": "markdown",
   "id": "f0b90f67",
   "metadata": {},
   "source": [
    "## removing repr function"
   ]
  },
  {
   "cell_type": "code",
   "execution_count": 22,
   "id": "7e2c5858",
   "metadata": {},
   "outputs": [],
   "source": [
    "class Person:\n",
    "    def __init__(self,name,age):\n",
    "        self.name = name\n",
    "        self.age = age\n",
    "    def __str__(self):\n",
    "        return f'{self.name} is {self.age} years old.'\n",
    "    def __len__(self):\n",
    "        return self.age\n",
    "    def __call__(self):\n",
    "        return f\"{self.name} is being called\"\n",
    "    \n",
    "class girl(Person):\n",
    "    def __init__(self,name,age):\n",
    "        super().__init__(name,age)"
   ]
  },
  {
   "cell_type": "code",
   "execution_count": 23,
   "id": "95147b08",
   "metadata": {},
   "outputs": [],
   "source": [
    "person1 = Person('Asmita', 35)"
   ]
  },
  {
   "cell_type": "code",
   "execution_count": 20,
   "id": "13e8ebfb",
   "metadata": {},
   "outputs": [
    {
     "data": {
      "text/plain": [
       "<__main__.Person at 0x14545f84b20>"
      ]
     },
     "execution_count": 20,
     "metadata": {},
     "output_type": "execute_result"
    }
   ],
   "source": [
    "person1"
   ]
  },
  {
   "cell_type": "code",
   "execution_count": 21,
   "id": "5120fb8a",
   "metadata": {},
   "outputs": [
    {
     "name": "stdout",
     "output_type": "stream",
     "text": [
      "Asmita is 35 years old.\n"
     ]
    }
   ],
   "source": [
    "print(person1)"
   ]
  },
  {
   "cell_type": "code",
   "execution_count": 24,
   "id": "963ccf0d",
   "metadata": {},
   "outputs": [],
   "source": [
    "girl1 = girl('Surpriya', 20)"
   ]
  },
  {
   "cell_type": "code",
   "execution_count": 25,
   "id": "ad9a00da",
   "metadata": {},
   "outputs": [
    {
     "name": "stdout",
     "output_type": "stream",
     "text": [
      "Surpriya is 20 years old.\n"
     ]
    }
   ],
   "source": [
    "print(girl1)"
   ]
  },
  {
   "cell_type": "code",
   "execution_count": 26,
   "id": "644d01cc",
   "metadata": {},
   "outputs": [
    {
     "data": {
      "text/plain": [
       "<__main__.girl at 0x14545f8b580>"
      ]
     },
     "execution_count": 26,
     "metadata": {},
     "output_type": "execute_result"
    }
   ],
   "source": [
    "girl1"
   ]
  },
  {
   "cell_type": "code",
   "execution_count": 28,
   "id": "b8ba5760",
   "metadata": {},
   "outputs": [
    {
     "name": "stdout",
     "output_type": "stream",
     "text": [
      "<__main__.girl object at 0x0000014545F8B580>\n"
     ]
    }
   ],
   "source": [
    "print(repr(girl1))  #since used for debugging says that the girl1 is a object belonging to girl class and located distance at memory"
   ]
  },
  {
   "cell_type": "code",
   "execution_count": null,
   "id": "756f29d6",
   "metadata": {},
   "outputs": [],
   "source": []
  }
 ],
 "metadata": {
  "kernelspec": {
   "display_name": "Python 3 (ipykernel)",
   "language": "python",
   "name": "python3"
  },
  "language_info": {
   "codemirror_mode": {
    "name": "ipython",
    "version": 3
   },
   "file_extension": ".py",
   "mimetype": "text/x-python",
   "name": "python",
   "nbconvert_exporter": "python",
   "pygments_lexer": "ipython3",
   "version": "3.10.0"
  }
 },
 "nbformat": 4,
 "nbformat_minor": 5
}
