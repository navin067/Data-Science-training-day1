{
 "cells": [
  {
   "cell_type": "code",
   "execution_count": 1,
   "id": "23df3c2c",
   "metadata": {},
   "outputs": [],
   "source": [
    "class Car:\n",
    "    def drive(self):\n",
    "        print('I am car')\n",
    "class Bike:\n",
    "    def drive(self):\n",
    "        print('I am bike')\n",
    "        \n",
    "def start_driving(vehicle):\n",
    "    vehicle.drive()"
   ]
  },
  {
   "cell_type": "markdown",
   "id": "c50b3911",
   "metadata": {},
   "source": [
    "## same function start_driving with same arguments doing differents tasks thus polymorphism"
   ]
  },
  {
   "cell_type": "code",
   "execution_count": 3,
   "id": "4d031ac9",
   "metadata": {},
   "outputs": [
    {
     "name": "stdout",
     "output_type": "stream",
     "text": [
      "I am car\n",
      "I am bike\n"
     ]
    }
   ],
   "source": [
    "car1 = Car()\n",
    "bike1 = Bike()\n",
    "\n",
    "start_driving(car1)\n",
    "start_driving(bike1)"
   ]
  },
  {
   "cell_type": "markdown",
   "id": "8946f0d8",
   "metadata": {},
   "source": [
    "## This is also known as duck typing. "
   ]
  },
  {
   "cell_type": "code",
   "execution_count": null,
   "id": "105297e9",
   "metadata": {},
   "outputs": [],
   "source": []
  }
 ],
 "metadata": {
  "kernelspec": {
   "display_name": "Python 3 (ipykernel)",
   "language": "python",
   "name": "python3"
  },
  "language_info": {
   "codemirror_mode": {
    "name": "ipython",
    "version": 3
   },
   "file_extension": ".py",
   "mimetype": "text/x-python",
   "name": "python",
   "nbconvert_exporter": "python",
   "pygments_lexer": "ipython3",
   "version": "3.10.0"
  }
 },
 "nbformat": 4,
 "nbformat_minor": 5
}
