{
 "cells": [
  {
   "cell_type": "markdown",
   "id": "08eaedc9",
   "metadata": {},
   "source": [
    "# Develop a program to control the speed of a car or bike. "
   ]
  },
  {
   "cell_type": "code",
   "execution_count": null,
   "id": "d32ad174",
   "metadata": {},
   "outputs": [],
   "source": []
  }
 ],
 "metadata": {
  "kernelspec": {
   "display_name": "Python 3 (ipykernel)",
   "language": "python",
   "name": "python3"
  },
  "language_info": {
   "codemirror_mode": {
    "name": "ipython",
    "version": 3
   },
   "file_extension": ".py",
   "mimetype": "text/x-python",
   "name": "python",
   "nbconvert_exporter": "python",
   "pygments_lexer": "ipython3",
   "version": "3.10.0"
  }
 },
 "nbformat": 4,
 "nbformat_minor": 5
}
