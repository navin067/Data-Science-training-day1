{
 "cells": [
  {
   "cell_type": "code",
   "execution_count": 3,
   "id": "692cff16",
   "metadata": {},
   "outputs": [],
   "source": [
    "class mainclass:\n",
    "    def __init__(self):\n",
    "        self.public_var = 1\n",
    "        self._protected_var = 2\n",
    "        self.__private_var = 3\n",
    "    def public_method(self):\n",
    "        print('I am public method in mainclass')\n",
    "    def _protected_method(self):\n",
    "        print('I am protected method in mainclass')\n",
    "    def __private_method(self):\n",
    "        print('I am a private method in mainclass')\n",
    "\n",
    "class subclass(mainclass):\n",
    "    def __init__(self):\n",
    "        super().__init__()\n",
    "    def get_public_member(self):\n",
    "        print(self.public_var)\n",
    "    def get_protected_member(self):\n",
    "        print(self._protected_var)\n",
    "    def get_private_member(self):\n",
    "        print(self.__private_var)"
   ]
  },
  {
   "cell_type": "code",
   "execution_count": 4,
   "id": "9f996f31",
   "metadata": {},
   "outputs": [
    {
     "name": "stdout",
     "output_type": "stream",
     "text": [
      "1\n",
      "2\n"
     ]
    },
    {
     "ename": "AttributeError",
     "evalue": "'subclass' object has no attribute 'get__private_member'",
     "output_type": "error",
     "traceback": [
      "\u001b[1;31m---------------------------------------------------------------------------\u001b[0m",
      "\u001b[1;31mAttributeError\u001b[0m                            Traceback (most recent call last)",
      "Cell \u001b[1;32mIn[4], line 4\u001b[0m\n\u001b[0;32m      2\u001b[0m obj\u001b[38;5;241m.\u001b[39mget_public_member()\n\u001b[0;32m      3\u001b[0m obj\u001b[38;5;241m.\u001b[39mget_protected_member()\n\u001b[1;32m----> 4\u001b[0m \u001b[43mobj\u001b[49m\u001b[38;5;241;43m.\u001b[39;49m\u001b[43mget__private_member\u001b[49m()\n",
      "\u001b[1;31mAttributeError\u001b[0m: 'subclass' object has no attribute 'get__private_member'"
     ]
    }
   ],
   "source": [
    "obj = subclass()\n",
    "obj.get_public_member()\n",
    "obj.get_protected_member()\n",
    "obj.get__private_member()"
   ]
  },
  {
   "cell_type": "code",
   "execution_count": 7,
   "id": "1a6c5987",
   "metadata": {},
   "outputs": [
    {
     "name": "stdout",
     "output_type": "stream",
     "text": [
      "I am public method in mainclass\n",
      "I am protected method in mainclass\n"
     ]
    },
    {
     "ename": "AttributeError",
     "evalue": "'mainclass' object has no attribute '__private_method'",
     "output_type": "error",
     "traceback": [
      "\u001b[1;31m---------------------------------------------------------------------------\u001b[0m",
      "\u001b[1;31mAttributeError\u001b[0m                            Traceback (most recent call last)",
      "Cell \u001b[1;32mIn[7], line 4\u001b[0m\n\u001b[0;32m      2\u001b[0m ex\u001b[38;5;241m.\u001b[39mpublic_method() \u001b[38;5;66;03m#this can be accessed\u001b[39;00m\n\u001b[0;32m      3\u001b[0m ex\u001b[38;5;241m.\u001b[39m_protected_method() \u001b[38;5;66;03m#this can also be accesed\u001b[39;00m\n\u001b[1;32m----> 4\u001b[0m \u001b[43mex\u001b[49m\u001b[38;5;241;43m.\u001b[39;49m\u001b[43m__private_method\u001b[49m() \u001b[38;5;66;03m#private method can only be accesed inside the class\u001b[39;00m\n",
      "\u001b[1;31mAttributeError\u001b[0m: 'mainclass' object has no attribute '__private_method'"
     ]
    }
   ],
   "source": [
    "ex = mainclass()\n",
    "ex.public_method() #this can be accessed\n",
    "ex._protected_method() #this can also be accesed\n",
    "ex.__private_method() #private method can only be accesed inside the class"
   ]
  },
  {
   "cell_type": "code",
   "execution_count": null,
   "id": "2d6347ac",
   "metadata": {},
   "outputs": [],
   "source": []
  }
 ],
 "metadata": {
  "kernelspec": {
   "display_name": "Python 3 (ipykernel)",
   "language": "python",
   "name": "python3"
  },
  "language_info": {
   "codemirror_mode": {
    "name": "ipython",
    "version": 3
   },
   "file_extension": ".py",
   "mimetype": "text/x-python",
   "name": "python",
   "nbconvert_exporter": "python",
   "pygments_lexer": "ipython3",
   "version": "3.10.0"
  }
 },
 "nbformat": 4,
 "nbformat_minor": 5
}
