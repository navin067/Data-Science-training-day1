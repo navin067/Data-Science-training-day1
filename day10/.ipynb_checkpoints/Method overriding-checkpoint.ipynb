{
 "cells": [
  {
   "cell_type": "markdown",
   "id": "2d3afc9d",
   "metadata": {},
   "source": [
    "# Method overriding"
   ]
  },
  {
   "cell_type": "code",
   "execution_count": 1,
   "id": "cd05ec29",
   "metadata": {},
   "outputs": [],
   "source": [
    "class Animal:\n",
    "    def sound(self):\n",
    "        print('I am an animal')\n",
    "class Cat(Animal):\n",
    "    def sound(self):\n",
    "        print('Meow')\n",
    "class Dog(Animal):\n",
    "    def sound(self):\n",
    "        print('Woof')"
   ]
  },
  {
   "cell_type": "code",
   "execution_count": 2,
   "id": "5c378936",
   "metadata": {},
   "outputs": [
    {
     "name": "stdout",
     "output_type": "stream",
     "text": [
      "I am an animal\n",
      "Meow\n",
      "Woof\n"
     ]
    }
   ],
   "source": [
    "animal = Animal()\n",
    "cat1 = Cat()\n",
    "dog1 = Dog()\n",
    "\n",
    "animal.sound()\n",
    "cat1.sound()\n",
    "dog1.sound()"
   ]
  },
  {
   "cell_type": "code",
   "execution_count": 14,
   "id": "c996a5bd",
   "metadata": {},
   "outputs": [],
   "source": [
    "class Animal:\n",
    "    def sound(self):\n",
    "        print('I am an animal')\n",
    "class Mammals:\n",
    "    def sound(self):\n",
    "        print('I am a mammal')\n",
    "class Dog(Animal, Mammals):\n",
    "    def speak(self):\n",
    "        print('Woof')"
   ]
  },
  {
   "cell_type": "code",
   "execution_count": 15,
   "id": "d81289c5",
   "metadata": {},
   "outputs": [
    {
     "name": "stdout",
     "output_type": "stream",
     "text": [
      "Woof\n",
      "I am an animal\n"
     ]
    }
   ],
   "source": [
    "dog2 = Dog()\n",
    "dog2.speak()\n",
    "dog2.sound() #because of order of inheritence of the class, the \"sound function\" of animals gets executed"
   ]
  },
  {
   "cell_type": "code",
   "execution_count": 16,
   "id": "52f9bbd4",
   "metadata": {},
   "outputs": [
    {
     "ename": "TypeError",
     "evalue": "Animal.sound() takes 1 positional argument but 2 were given",
     "output_type": "error",
     "traceback": [
      "\u001b[1;31m---------------------------------------------------------------------------\u001b[0m",
      "\u001b[1;31mTypeError\u001b[0m                                 Traceback (most recent call last)",
      "Cell \u001b[1;32mIn[16], line 1\u001b[0m\n\u001b[1;32m----> 1\u001b[0m \u001b[43mdog2\u001b[49m\u001b[38;5;241;43m.\u001b[39;49m\u001b[43msound\u001b[49m\u001b[43m(\u001b[49m\u001b[38;5;124;43m'\u001b[39;49m\u001b[38;5;124;43mJackson\u001b[39;49m\u001b[38;5;124;43m'\u001b[39;49m\u001b[43m)\u001b[49m\n",
      "\u001b[1;31mTypeError\u001b[0m: Animal.sound() takes 1 positional argument but 2 were given"
     ]
    }
   ],
   "source": [
    "dog2.sound('Jackson')"
   ]
  },
  {
   "cell_type": "markdown",
   "id": "97ee953c",
   "metadata": {},
   "source": [
    "## other example"
   ]
  },
  {
   "cell_type": "code",
   "execution_count": 17,
   "id": "935b4b62",
   "metadata": {},
   "outputs": [],
   "source": [
    "class Parent:\n",
    "    def parent(self):\n",
    "        print(\"i am from parent class\")\n",
    "class Child(Parent):\n",
    "    def child(self):\n",
    "        print(\"i am from children class\")\n",
    "        super().parent()"
   ]
  },
  {
   "cell_type": "code",
   "execution_count": 18,
   "id": "00b6b377",
   "metadata": {},
   "outputs": [],
   "source": [
    "ch = Child()"
   ]
  },
  {
   "cell_type": "code",
   "execution_count": 19,
   "id": "c50c0639",
   "metadata": {},
   "outputs": [
    {
     "name": "stdout",
     "output_type": "stream",
     "text": [
      "i am from children class\n",
      "i am from parent class\n"
     ]
    }
   ],
   "source": [
    "ch.child()"
   ]
  },
  {
   "cell_type": "code",
   "execution_count": null,
   "id": "0d948321",
   "metadata": {},
   "outputs": [],
   "source": []
  }
 ],
 "metadata": {
  "kernelspec": {
   "display_name": "Python 3 (ipykernel)",
   "language": "python",
   "name": "python3"
  },
  "language_info": {
   "codemirror_mode": {
    "name": "ipython",
    "version": 3
   },
   "file_extension": ".py",
   "mimetype": "text/x-python",
   "name": "python",
   "nbconvert_exporter": "python",
   "pygments_lexer": "ipython3",
   "version": "3.10.0"
  }
 },
 "nbformat": 4,
 "nbformat_minor": 5
}
