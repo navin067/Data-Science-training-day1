{
 "cells": [
  {
   "cell_type": "code",
   "execution_count": 1,
   "id": "89ac9863",
   "metadata": {},
   "outputs": [],
   "source": [
    "def outer_function(x):\n",
    "    def inner_function(y):\n",
    "        return x + y\n",
    "    return inner_function"
   ]
  },
  {
   "cell_type": "code",
   "execution_count": 3,
   "id": "6cfc2ab2",
   "metadata": {
    "scrolled": true
   },
   "outputs": [
    {
     "name": "stdout",
     "output_type": "stream",
     "text": [
      "10\n"
     ]
    }
   ],
   "source": [
    "closure = outer_function(5)  #this causes the closure to contain the inner_function as it's value\n",
    "\n",
    "result = closure(5)\n",
    "print(result)"
   ]
  },
  {
   "cell_type": "code",
   "execution_count": 4,
   "id": "c40f9b35",
   "metadata": {},
   "outputs": [
    {
     "data": {
      "text/plain": [
       "function"
      ]
     },
     "execution_count": 4,
     "metadata": {},
     "output_type": "execute_result"
    }
   ],
   "source": [
    "type(closure)"
   ]
  },
  {
   "cell_type": "markdown",
   "id": "7918f2bb",
   "metadata": {},
   "source": [
    "## returning two different inner functions"
   ]
  },
  {
   "cell_type": "code",
   "execution_count": 5,
   "id": "fc1e1810",
   "metadata": {},
   "outputs": [],
   "source": [
    "def outer_function(x):\n",
    "    def inner_function1(y):\n",
    "        return x + y\n",
    "    def inner_function2(y):\n",
    "        return x * y\n",
    "    return inner_function1, inner_function2"
   ]
  },
  {
   "cell_type": "code",
   "execution_count": 6,
   "id": "42fa4447",
   "metadata": {},
   "outputs": [],
   "source": [
    "closure = outer_function(5)"
   ]
  },
  {
   "cell_type": "code",
   "execution_count": 7,
   "id": "883e79de",
   "metadata": {},
   "outputs": [
    {
     "data": {
      "text/plain": [
       "tuple"
      ]
     },
     "execution_count": 7,
     "metadata": {},
     "output_type": "execute_result"
    }
   ],
   "source": [
    "type(closure)"
   ]
  },
  {
   "cell_type": "code",
   "execution_count": 8,
   "id": "dcfae274",
   "metadata": {},
   "outputs": [
    {
     "name": "stdout",
     "output_type": "stream",
     "text": [
      "10\n"
     ]
    }
   ],
   "source": [
    "print(closure[0](5))"
   ]
  },
  {
   "cell_type": "code",
   "execution_count": 9,
   "id": "f1ee22f4",
   "metadata": {},
   "outputs": [
    {
     "name": "stdout",
     "output_type": "stream",
     "text": [
      "25\n"
     ]
    }
   ],
   "source": [
    "print(closure[1](5))"
   ]
  },
  {
   "cell_type": "markdown",
   "id": "dbb96f8b",
   "metadata": {},
   "source": [
    "## OR we can do as below"
   ]
  },
  {
   "cell_type": "code",
   "execution_count": 10,
   "id": "38980152",
   "metadata": {},
   "outputs": [],
   "source": [
    "closure1, closure2 = outer_function(5)"
   ]
  },
  {
   "cell_type": "code",
   "execution_count": 11,
   "id": "b93cc432",
   "metadata": {},
   "outputs": [
    {
     "name": "stdout",
     "output_type": "stream",
     "text": [
      "10\n",
      "25\n"
     ]
    }
   ],
   "source": [
    "print(closure1(5))\n",
    "print(closure2(5))"
   ]
  },
  {
   "cell_type": "markdown",
   "id": "a928d9de",
   "metadata": {},
   "source": [
    "## other examples"
   ]
  },
  {
   "cell_type": "code",
   "execution_count": 12,
   "id": "dd68cdd3",
   "metadata": {},
   "outputs": [],
   "source": [
    "def counter():\n",
    "    count = 0\n",
    "    def inner():\n",
    "        nonlocal count\n",
    "        count += 1\n",
    "        return count\n",
    "    return inner"
   ]
  },
  {
   "cell_type": "code",
   "execution_count": 15,
   "id": "bb3f60bf",
   "metadata": {},
   "outputs": [
    {
     "name": "stdout",
     "output_type": "stream",
     "text": [
      "1\n",
      "2\n",
      "3\n",
      "4\n"
     ]
    }
   ],
   "source": [
    "c1 = counter()\n",
    "print(c1())\n",
    "print(c1())\n",
    "print(c1())\n",
    "print(c1())"
   ]
  },
  {
   "cell_type": "markdown",
   "id": "46bbd1ab",
   "metadata": {},
   "source": [
    "## defining nonlocal variable must be defined otherwise error"
   ]
  },
  {
   "cell_type": "code",
   "execution_count": 16,
   "id": "40dc7333",
   "metadata": {},
   "outputs": [],
   "source": [
    "def counter():\n",
    "    count = 0\n",
    "    def inner():\n",
    "        # nonlocal count\n",
    "        count += 1\n",
    "        return count\n",
    "    return inner"
   ]
  },
  {
   "cell_type": "code",
   "execution_count": 17,
   "id": "9d498728",
   "metadata": {},
   "outputs": [
    {
     "ename": "UnboundLocalError",
     "evalue": "local variable 'count' referenced before assignment",
     "output_type": "error",
     "traceback": [
      "\u001b[1;31m---------------------------------------------------------------------------\u001b[0m",
      "\u001b[1;31mUnboundLocalError\u001b[0m                         Traceback (most recent call last)",
      "Cell \u001b[1;32mIn[17], line 2\u001b[0m\n\u001b[0;32m      1\u001b[0m c1 \u001b[38;5;241m=\u001b[39m counter()\n\u001b[1;32m----> 2\u001b[0m \u001b[38;5;28mprint\u001b[39m(\u001b[43mc1\u001b[49m\u001b[43m(\u001b[49m\u001b[43m)\u001b[49m)\n\u001b[0;32m      3\u001b[0m \u001b[38;5;28mprint\u001b[39m(c1())\n\u001b[0;32m      4\u001b[0m \u001b[38;5;28mprint\u001b[39m(c1())\n",
      "Cell \u001b[1;32mIn[16], line 5\u001b[0m, in \u001b[0;36mcounter.<locals>.inner\u001b[1;34m()\u001b[0m\n\u001b[0;32m      3\u001b[0m \u001b[38;5;28;01mdef\u001b[39;00m \u001b[38;5;21minner\u001b[39m():\n\u001b[0;32m      4\u001b[0m     \u001b[38;5;66;03m# nonlocal count\u001b[39;00m\n\u001b[1;32m----> 5\u001b[0m     count \u001b[38;5;241m+\u001b[39m\u001b[38;5;241m=\u001b[39m \u001b[38;5;241m1\u001b[39m\n\u001b[0;32m      6\u001b[0m     \u001b[38;5;28;01mreturn\u001b[39;00m count\n",
      "\u001b[1;31mUnboundLocalError\u001b[0m: local variable 'count' referenced before assignment"
     ]
    }
   ],
   "source": [
    "c1 = counter()\n",
    "print(c1())\n",
    "print(c1())\n",
    "print(c1())\n",
    "print(c1())"
   ]
  },
  {
   "cell_type": "code",
   "execution_count": 20,
   "id": "3504a8d2",
   "metadata": {},
   "outputs": [],
   "source": [
    "def counter():\n",
    "    count = 5\n",
    "    def inner():\n",
    "        nonlocal count\n",
    "        count += 1\n",
    "        return count\n",
    "    return inner"
   ]
  },
  {
   "cell_type": "code",
   "execution_count": 21,
   "id": "aca6dd21",
   "metadata": {},
   "outputs": [
    {
     "name": "stdout",
     "output_type": "stream",
     "text": [
      "6\n",
      "7\n"
     ]
    }
   ],
   "source": [
    "c1 = counter()\n",
    "print(c1())\n",
    "print(c1())"
   ]
  },
  {
   "cell_type": "code",
   "execution_count": null,
   "id": "e65c21a6",
   "metadata": {},
   "outputs": [],
   "source": []
  }
 ],
 "metadata": {
  "kernelspec": {
   "display_name": "Python 3 (ipykernel)",
   "language": "python",
   "name": "python3"
  },
  "language_info": {
   "codemirror_mode": {
    "name": "ipython",
    "version": 3
   },
   "file_extension": ".py",
   "mimetype": "text/x-python",
   "name": "python",
   "nbconvert_exporter": "python",
   "pygments_lexer": "ipython3",
   "version": "3.10.0"
  }
 },
 "nbformat": 4,
 "nbformat_minor": 5
}
