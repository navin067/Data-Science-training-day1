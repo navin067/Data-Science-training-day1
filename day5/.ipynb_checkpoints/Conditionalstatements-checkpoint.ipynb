{
 "cells": [
  {
   "cell_type": "markdown",
   "id": "e867907b",
   "metadata": {},
   "source": [
    "# Conditional statements"
   ]
  },
  {
   "cell_type": "code",
   "execution_count": 4,
   "id": "b9110614",
   "metadata": {},
   "outputs": [
    {
     "name": "stdout",
     "output_type": "stream",
     "text": [
      "enter a number102\n"
     ]
    }
   ],
   "source": [
    "a = int(input(\"enter a number\"))"
   ]
  },
  {
   "cell_type": "code",
   "execution_count": 5,
   "id": "40565c26",
   "metadata": {},
   "outputs": [
    {
     "data": {
      "text/plain": [
       "102"
      ]
     },
     "execution_count": 5,
     "metadata": {},
     "output_type": "execute_result"
    }
   ],
   "source": [
    "a"
   ]
  },
  {
   "cell_type": "code",
   "execution_count": 6,
   "id": "91e27521",
   "metadata": {},
   "outputs": [
    {
     "name": "stdout",
     "output_type": "stream",
     "text": [
      "102 is greater than 100\n"
     ]
    }
   ],
   "source": [
    "if a>100:\n",
    "    print(f'{a} is greater than 100')\n",
    "elif a==0:\n",
    "    print(f'{a} is equals to zero')\n",
    "elif a>0:\n",
    "    print(f'{a} is less than 0')\n",
    "else:\n",
    "    print(f'{a} is the negative number')"
   ]
  },
  {
   "cell_type": "code",
   "execution_count": null,
   "id": "13021919",
   "metadata": {},
   "outputs": [],
   "source": []
  }
 ],
 "metadata": {
  "kernelspec": {
   "display_name": "Python 3 (ipykernel)",
   "language": "python",
   "name": "python3"
  },
  "language_info": {
   "codemirror_mode": {
    "name": "ipython",
    "version": 3
   },
   "file_extension": ".py",
   "mimetype": "text/x-python",
   "name": "python",
   "nbconvert_exporter": "python",
   "pygments_lexer": "ipython3",
   "version": "3.10.0"
  }
 },
 "nbformat": 4,
 "nbformat_minor": 5
}
