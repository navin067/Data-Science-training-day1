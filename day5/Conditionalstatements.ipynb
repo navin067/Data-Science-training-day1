{
 "cells": [
  {
   "cell_type": "markdown",
   "id": "6c928480",
   "metadata": {},
   "source": [
    "# Conditional statements"
   ]
  },
  {
   "cell_type": "code",
   "execution_count": 4,
   "id": "73bb5a47",
   "metadata": {},
   "outputs": [
    {
     "name": "stdout",
     "output_type": "stream",
     "text": [
      "enter a number102\n"
     ]
    }
   ],
   "source": [
    "a = int(input(\"enter a number\"))"
   ]
  },
  {
   "cell_type": "code",
   "execution_count": 5,
   "id": "0c872a1d",
   "metadata": {},
   "outputs": [
    {
     "data": {
      "text/plain": [
       "102"
      ]
     },
     "execution_count": 5,
     "metadata": {},
     "output_type": "execute_result"
    }
   ],
   "source": [
    "a"
   ]
  },
  {
   "cell_type": "code",
   "execution_count": 6,
   "id": "8d451197",
   "metadata": {},
   "outputs": [
    {
     "name": "stdout",
     "output_type": "stream",
     "text": [
      "102 is greater than 100\n"
     ]
    }
   ],
   "source": [
    "if a>100:\n",
    "    print(f'{a} is greater than 100')\n",
    "elif a==0:\n",
    "    print(f'{a} is equals to zero')\n",
    "elif a>0:\n",
    "    print(f'{a} is less than 0')\n",
    "else:\n",
    "    print(f'{a} is the negative number')"
   ]
  },
  {
   "cell_type": "code",
   "execution_count": 8,
   "id": "fc16653f",
   "metadata": {},
   "outputs": [
    {
     "name": "stdout",
     "output_type": "stream",
     "text": [
      "enter a number-102\n",
      "-102 is smaller than -100\n"
     ]
    }
   ],
   "source": [
    "a = int(input('enter a number'))\n",
    "\n",
    "if a>0:\n",
    "    if a>100:\n",
    "        print(f'{a} is greater than 100')\n",
    "    else:\n",
    "        print(f'{a} is greater than 0 but less than 100)\n",
    "elif a==0:\n",
    "    print(f'{a} is equals to 0')\n",
    "else:\n",
    "    if a<-100:\n",
    "        print(f'{a} is smaller than -100')\n",
    "    else:\n",
    "        print(f'{a} is the negative number')"
   ]
  },
  {
   "cell_type": "code",
   "execution_count": null,
   "id": "b427e916",
   "metadata": {},
   "outputs": [],
   "source": []
  }
 ],
 "metadata": {
  "kernelspec": {
   "display_name": "Python 3 (ipykernel)",
   "language": "python",
   "name": "python3"
  },
  "language_info": {
   "codemirror_mode": {
    "name": "ipython",
    "version": 3
   },
   "file_extension": ".py",
   "mimetype": "text/x-python",
   "name": "python",
   "nbconvert_exporter": "python",
   "pygments_lexer": "ipython3",
   "version": "3.10.0"
  }
 },
 "nbformat": 4,
 "nbformat_minor": 5
}
