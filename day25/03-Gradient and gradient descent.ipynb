{
 "cells": [
  {
   "cell_type": "code",
   "execution_count": 1,
   "id": "4d8c00a1",
   "metadata": {},
   "outputs": [],
   "source": [
    "import numpy as np"
   ]
  },
  {
   "cell_type": "code",
   "execution_count": 2,
   "id": "20b5c35c",
   "metadata": {},
   "outputs": [],
   "source": [
    "#define the function\n",
    "def f(x,y):\n",
    "    return x**2 + 2*y\n",
    "\n",
    "#compute the gradients\n",
    "def gradient(x,y):\n",
    "    df_dx = 2*x\n",
    "    df_dy = 2\n",
    "    return np.array([df_dx, df_dy])"
   ]
  },
  {
   "cell_type": "code",
   "execution_count": 3,
   "id": "80dbfc8f",
   "metadata": {},
   "outputs": [
    {
     "name": "stdout",
     "output_type": "stream",
     "text": [
      "[4 2]\n"
     ]
    }
   ],
   "source": [
    "# test the gradients\n",
    "x = 2\n",
    "y = 3\n",
    "grads = gradient(x,y)\n",
    "\n",
    "print(grads)"
   ]
  },
  {
   "cell_type": "code",
   "execution_count": 4,
   "id": "58cc09d3",
   "metadata": {},
   "outputs": [],
   "source": [
    "def gradient_descent(starting_point, learning_rate, num_iterations):\n",
    "    #initialize the parameters\n",
    "    point = starting_point\n",
    "    \n",
    "    #iterate\n",
    "    for i in range(num_iterations):\n",
    "        #compute the gradient\n",
    "        grad = gradient(point[0], point[1])\n",
    "        \n",
    "        #update the parameters\n",
    "        point = point - learning_rate * grad\n",
    "        \n",
    "    return point"
   ]
  },
  {
   "cell_type": "code",
   "execution_count": 5,
   "id": "5da67601",
   "metadata": {},
   "outputs": [
    {
     "name": "stdout",
     "output_type": "stream",
     "text": [
      "Optimal point:  [ 4.07407195e-10 -1.70000000e+01]\n",
      "Optimal value:  -33.99999999999995\n"
     ]
    }
   ],
   "source": [
    "# test the gradient descent function\n",
    "starting_point = np.array([2,3])\n",
    "learning_rate = 0.1\n",
    "num_iterations = 100\n",
    "optimum = gradient_descent(starting_point, learning_rate, num_iterations)\n",
    "print(\"Optimal point: \", optimum)\n",
    "print(\"Optimal value: \", f(optimum[0], optimum[1]))"
   ]
  },
  {
   "cell_type": "code",
   "execution_count": null,
   "id": "553e0423",
   "metadata": {},
   "outputs": [],
   "source": []
  }
 ],
 "metadata": {
  "kernelspec": {
   "display_name": "Python 3 (ipykernel)",
   "language": "python",
   "name": "python3"
  },
  "language_info": {
   "codemirror_mode": {
    "name": "ipython",
    "version": 3
   },
   "file_extension": ".py",
   "mimetype": "text/x-python",
   "name": "python",
   "nbconvert_exporter": "python",
   "pygments_lexer": "ipython3",
   "version": "3.10.0"
  }
 },
 "nbformat": 4,
 "nbformat_minor": 5
}
