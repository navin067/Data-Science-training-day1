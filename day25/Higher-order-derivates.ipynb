{
 "cells": [
  {
   "cell_type": "code",
   "execution_count": 1,
   "id": "e4d9d56e",
   "metadata": {},
   "outputs": [],
   "source": [
    "import sympy as sp"
   ]
  },
  {
   "cell_type": "code",
   "execution_count": 4,
   "id": "c5669afe",
   "metadata": {},
   "outputs": [
    {
     "name": "stdout",
     "output_type": "stream",
     "text": [
      "cos(x)\n",
      "-sin(x)\n"
     ]
    }
   ],
   "source": [
    "x = sp.symbols('x')\n",
    "f = sp.sin(x)\n",
    "dfdx = sp.diff(f,x)\n",
    "d2fdx2 = sp.diff(f,x,2)\n",
    "\n",
    "print(dfdx)\n",
    "print(d2fdx2)"
   ]
  },
  {
   "cell_type": "code",
   "execution_count": null,
   "id": "84ea6b4d",
   "metadata": {},
   "outputs": [],
   "source": []
  }
 ],
 "metadata": {
  "kernelspec": {
   "display_name": "Python 3 (ipykernel)",
   "language": "python",
   "name": "python3"
  },
  "language_info": {
   "codemirror_mode": {
    "name": "ipython",
    "version": 3
   },
   "file_extension": ".py",
   "mimetype": "text/x-python",
   "name": "python",
   "nbconvert_exporter": "python",
   "pygments_lexer": "ipython3",
   "version": "3.10.0"
  }
 },
 "nbformat": 4,
 "nbformat_minor": 5
}
