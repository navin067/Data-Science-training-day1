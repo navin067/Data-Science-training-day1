{
 "cells": [
  {
   "cell_type": "code",
   "execution_count": 1,
   "id": "dc72d32d",
   "metadata": {},
   "outputs": [],
   "source": [
    "import sympy as sp"
   ]
  },
  {
   "cell_type": "code",
   "execution_count": 3,
   "id": "6876b38e",
   "metadata": {},
   "outputs": [
    {
     "name": "stdout",
     "output_type": "stream",
     "text": [
      "2*x\n",
      "2*y\n",
      "x/y\n"
     ]
    }
   ],
   "source": [
    "x, y = sp.symbols('x y')\n",
    "f = x**2 + y**2 - 4\n",
    "dfdx = sp.diff(f,x)\n",
    "dfdy = sp.diff(f,y)\n",
    "dydx = dfdx / dfdy\n",
    "\n",
    "print(dfdx)\n",
    "print(dfdy)\n",
    "print(dydx)"
   ]
  },
  {
   "cell_type": "markdown",
   "id": "544ec99f",
   "metadata": {},
   "source": [
    "## Partial differentiation"
   ]
  },
  {
   "cell_type": "code",
   "execution_count": null,
   "id": "08c2a28e",
   "metadata": {},
   "outputs": [],
   "source": [
    "# define function\n",
    "x,y = sp.symbols('x y')\n",
    "f = x**2 + 3*x*y + y**2\n",
    "\n",
    "# find the partial derivatives\n",
    "df_dx = sp.diff(f,x)\n",
    "df_dy = sp.diff(f,y)\n",
    "\n",
    "# evaluate partial derivatives at a point\n",
    "point = {x : 1, y : 1}\n",
    "df_dx_at_point = \n"
   ]
  }
 ],
 "metadata": {
  "kernelspec": {
   "display_name": "Python 3 (ipykernel)",
   "language": "python",
   "name": "python3"
  },
  "language_info": {
   "codemirror_mode": {
    "name": "ipython",
    "version": 3
   },
   "file_extension": ".py",
   "mimetype": "text/x-python",
   "name": "python",
   "nbconvert_exporter": "python",
   "pygments_lexer": "ipython3",
   "version": "3.10.0"
  }
 },
 "nbformat": 4,
 "nbformat_minor": 5
}
